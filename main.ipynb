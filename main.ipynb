{
 "cells": [
  {
   "cell_type": "code",
   "execution_count": null,
   "metadata": {},
   "outputs": [],
   "source": [
    "from google.cloud import bigquery\n",
    "\n",
    "# Construct a BigQuery client object.\n",
    "client = bigquery.Client()\n"
   ]
  },
  {
   "cell_type": "code",
   "execution_count": null,
   "metadata": {},
   "outputs": [],
   "source": [
    "def count_variants(chr, pos):\n",
    "    if pos == 0:\n",
    "        query = (\n",
    "            \"SELECT chr_id_b37, position_b37, COUNT(*) as count FROM thegwensproject.genomiX.variants WHERE chr_id_b37 = '\" +str(chr) +\"' GROUP BY chr_id_b37, position_b37 HAVING COUNT(*) > 1 LIMIT 20;\")\n",
    "    else:\n",
    "        query = (\n",
    "            \"SELECT chr_id_b37, position_b37, COUNT(*) as count FROM thegwensproject.genomiX.variants WHERE chr_id_b37 = '\" +str(chr) +\"' AND position_b37 = \" + str(pos) + \" GROUP BY chr_id_b37, position_b37 HAVING COUNT(*) > 1 LIMIT 20;\")\n",
    "    return query\n",
    "query_job = client.query(count_variants(6, 166956723))\n",
    "for row in query_job:\n",
    "    # Row values can be accessed by field name or index.\n",
    "    print(row)"
   ]
  },
  {
   "cell_type": "code",
   "execution_count": null,
   "metadata": {},
   "outputs": [],
   "source": [
    "def variant_info(chr, pos):\n",
    "    query = (\n",
    "        \"SELECT * FROM thegwensproject.genomiX.variants WHERE chr_id_b37 = '\" +str(chr) +\"' AND position_b37 = \" + str(pos) + \" LIMIT 20;\")\n",
    "    return query\n",
    "\n",
    "query_job = client.query(variant_info(6, 166956723))\n",
    "for row in query_job:\n",
    "    # Row values can be accessed by field name or index.\n",
    "    print(row[9])\n",
    "    print (row)"
   ]
  },
  {
   "cell_type": "code",
   "execution_count": null,
   "metadata": {},
   "outputs": [],
   "source": [
    "def tag_disease_variant_info(chr, pos):\n",
    "    query = (\n",
    "        \"SELECT * FROM thegwensproject.genomiX.disease_variant_gene WHERE tag_chrom = '\" +str(chr) +\"' AND tag_pos = \"+ str(pos) +\"  LIMIT 20;\")\n",
    "    return query\n",
    "\n",
    "query_job = client.query(tag_disease_variant_info(6, 166952906))\n",
    "for row in query_job:\n",
    "    # Row values can be accessed by field name or index.\n",
    "    print(row['lead_pos'])\n",
    "    print (row)"
   ]
  },
  {
   "cell_type": "code",
   "execution_count": null,
   "metadata": {},
   "outputs": [],
   "source": [
    "def lead_disease_variant_info(chr, pos):\n",
    "    query = (\n",
    "        \"SELECT * FROM thegwensproject.genomiX.disease_variant_gene WHERE lead_chrom = '\" +str(chr) +\"' AND lead_pos = \"+ str(pos) +\"  LIMIT 20;\")\n",
    "    return query\n",
    "query_job = client.query(lead_disease_variant_info(6, 166956723))\n",
    "for row in query_job:\n",
    "    # Row values can be accessed by field name or index.\n",
    "    print (row)"
   ]
  },
  {
   "cell_type": "code",
   "execution_count": null,
   "metadata": {},
   "outputs": [],
   "source": [
    "def lead_disease_info(chr, pos):\n",
    "    query = (\n",
    "        \"SELECT * FROM thegwensproject.genomiX.variant_disease WHERE lead_chrom = '\" +str(chr) +\"' AND lead_pos = \"+ str(pos) +\"  LIMIT 20;\")\n",
    "    return query\n",
    "query_job = client.query(lead_disease_info(6, 166956723))\n",
    "for row in query_job:\n",
    "    # Row values can be accessed by field name or index.\n",
    "    print (row['trait_reported'])"
   ]
  },
  {
   "cell_type": "code",
   "execution_count": null,
   "metadata": {},
   "outputs": [],
   "source": []
  }
 ],
 "metadata": {
  "kernelspec": {
   "display_name": "Python 3",
   "language": "python",
   "name": "python3"
  },
  "language_info": {
   "codemirror_mode": {
    "name": "ipython",
    "version": 3
   },
   "file_extension": ".py",
   "mimetype": "text/x-python",
   "name": "python",
   "nbconvert_exporter": "python",
   "pygments_lexer": "ipython3",
   "version": "3.10.10"
  },
  "orig_nbformat": 4
 },
 "nbformat": 4,
 "nbformat_minor": 2
}
