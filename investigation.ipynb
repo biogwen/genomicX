{
 "cells": [
  {
   "attachments": {},
   "cell_type": "markdown",
   "metadata": {},
   "source": [
    "Import libraries"
   ]
  },
  {
   "cell_type": "code",
   "execution_count": 81,
   "metadata": {},
   "outputs": [],
   "source": [
    "import pandas as pd\n",
    "import numpy as np\n"
   ]
  },
  {
   "attachments": {},
   "cell_type": "markdown",
   "metadata": {},
   "source": [
    "Data loading for disease variant genes"
   ]
  },
  {
   "cell_type": "code",
   "execution_count": 82,
   "metadata": {},
   "outputs": [],
   "source": [
    "df_dvg = pd.read_csv('disease_variant_gene.csv')"
   ]
  },
  {
   "attachments": {},
   "cell_type": "markdown",
   "metadata": {},
   "source": [
    "Beginning of cleaning of the disease variant gene data."
   ]
  },
  {
   "attachments": {},
   "cell_type": "markdown",
   "metadata": {},
   "source": [
    "Removing useless columns"
   ]
  },
  {
   "cell_type": "code",
   "execution_count": 83,
   "metadata": {},
   "outputs": [],
   "source": [
    "df_dvg.drop(columns=['source', 'pub_date', 'pub_journal', 'pub_author', 'pub_title'], inplace=True)"
   ]
  },
  {
   "attachments": {},
   "cell_type": "markdown",
   "metadata": {},
   "source": [
    "Removing columns with less than 8000 values"
   ]
  },
  {
   "cell_type": "code",
   "execution_count": 84,
   "metadata": {},
   "outputs": [],
   "source": [
    "nan_counts = df_dvg.isna().sum()\n",
    "\n",
    "# Get the column names with more than 10,000 NaN values\n",
    "columns_to_drop = nan_counts[nan_counts > 8000].index\n",
    "\n",
    "# Drop the columns with more than 10,000 NaN values\n",
    "df_dvg = df_dvg.drop(columns=columns_to_drop)"
   ]
  },
  {
   "attachments": {},
   "cell_type": "markdown",
   "metadata": {},
   "source": [
    "End of cleaning Disease variant gene data."
   ]
  },
  {
   "attachments": {},
   "cell_type": "markdown",
   "metadata": {},
   "source": [
    "load of the variant database"
   ]
  },
  {
   "cell_type": "code",
   "execution_count": 85,
   "metadata": {},
   "outputs": [],
   "source": [
    "df_vd = pd.read_csv('variant_database.csv')"
   ]
  },
  {
   "attachments": {},
   "cell_type": "markdown",
   "metadata": {},
   "source": [
    "first: check the Nan"
   ]
  },
  {
   "attachments": {},
   "cell_type": "markdown",
   "metadata": {},
   "source": [
    "As we see, 2 columns are totally empty. Lets remove them."
   ]
  },
  {
   "cell_type": "code",
   "execution_count": 86,
   "metadata": {},
   "outputs": [
    {
     "data": {
      "text/html": [
       "<div>\n",
       "<style scoped>\n",
       "    .dataframe tbody tr th:only-of-type {\n",
       "        vertical-align: middle;\n",
       "    }\n",
       "\n",
       "    .dataframe tbody tr th {\n",
       "        vertical-align: top;\n",
       "    }\n",
       "\n",
       "    .dataframe thead th {\n",
       "        text-align: right;\n",
       "    }\n",
       "</style>\n",
       "<table border=\"1\" class=\"dataframe\">\n",
       "  <thead>\n",
       "    <tr style=\"text-align: right;\">\n",
       "      <th></th>\n",
       "      <th>study_id</th>\n",
       "      <th>lead_chrom</th>\n",
       "      <th>lead_pos</th>\n",
       "      <th>lead_ref</th>\n",
       "      <th>lead_alt</th>\n",
       "      <th>direction</th>\n",
       "      <th>beta</th>\n",
       "      <th>beta_ci_lower</th>\n",
       "      <th>beta_ci_upper</th>\n",
       "      <th>odds_ratio</th>\n",
       "      <th>...</th>\n",
       "      <th>tag_pos</th>\n",
       "      <th>tag_ref</th>\n",
       "      <th>tag_alt</th>\n",
       "      <th>overall_r2</th>\n",
       "      <th>pics_95perc_credset</th>\n",
       "      <th>AFR_1000G_prop</th>\n",
       "      <th>AMR_1000G_prop</th>\n",
       "      <th>EAS_1000G_prop</th>\n",
       "      <th>EUR_1000G_prop</th>\n",
       "      <th>SAS_1000G_prop</th>\n",
       "    </tr>\n",
       "  </thead>\n",
       "  <tbody>\n",
       "    <tr>\n",
       "      <th>0</th>\n",
       "      <td>GCST000035</td>\n",
       "      <td>16</td>\n",
       "      <td>52552429</td>\n",
       "      <td>A</td>\n",
       "      <td>G</td>\n",
       "      <td>-</td>\n",
       "      <td>NaN</td>\n",
       "      <td>NaN</td>\n",
       "      <td>NaN</td>\n",
       "      <td>0.833333</td>\n",
       "      <td>...</td>\n",
       "      <td>52565276</td>\n",
       "      <td>C</td>\n",
       "      <td>T</td>\n",
       "      <td>0.674548</td>\n",
       "      <td>False</td>\n",
       "      <td>0.000000</td>\n",
       "      <td>0.000000</td>\n",
       "      <td>0.138488</td>\n",
       "      <td>0.861512</td>\n",
       "      <td>0.0</td>\n",
       "    </tr>\n",
       "    <tr>\n",
       "      <th>1</th>\n",
       "      <td>GCST000035</td>\n",
       "      <td>5</td>\n",
       "      <td>56736057</td>\n",
       "      <td>C</td>\n",
       "      <td>A</td>\n",
       "      <td>-</td>\n",
       "      <td>NaN</td>\n",
       "      <td>NaN</td>\n",
       "      <td>NaN</td>\n",
       "      <td>0.884956</td>\n",
       "      <td>...</td>\n",
       "      <td>56829526</td>\n",
       "      <td>A</td>\n",
       "      <td>G</td>\n",
       "      <td>0.526719</td>\n",
       "      <td>False</td>\n",
       "      <td>0.000000</td>\n",
       "      <td>0.000000</td>\n",
       "      <td>0.138488</td>\n",
       "      <td>0.861512</td>\n",
       "      <td>0.0</td>\n",
       "    </tr>\n",
       "    <tr>\n",
       "      <th>2</th>\n",
       "      <td>GCST000035</td>\n",
       "      <td>5</td>\n",
       "      <td>56736057</td>\n",
       "      <td>C</td>\n",
       "      <td>A</td>\n",
       "      <td>-</td>\n",
       "      <td>NaN</td>\n",
       "      <td>NaN</td>\n",
       "      <td>NaN</td>\n",
       "      <td>0.884956</td>\n",
       "      <td>...</td>\n",
       "      <td>56902323</td>\n",
       "      <td>A</td>\n",
       "      <td>C</td>\n",
       "      <td>0.513007</td>\n",
       "      <td>False</td>\n",
       "      <td>0.000000</td>\n",
       "      <td>0.000000</td>\n",
       "      <td>0.138488</td>\n",
       "      <td>0.861512</td>\n",
       "      <td>0.0</td>\n",
       "    </tr>\n",
       "    <tr>\n",
       "      <th>3</th>\n",
       "      <td>GCST000037</td>\n",
       "      <td>16</td>\n",
       "      <td>52552429</td>\n",
       "      <td>A</td>\n",
       "      <td>G</td>\n",
       "      <td>-</td>\n",
       "      <td>NaN</td>\n",
       "      <td>NaN</td>\n",
       "      <td>NaN</td>\n",
       "      <td>0.781250</td>\n",
       "      <td>...</td>\n",
       "      <td>52550383</td>\n",
       "      <td>T</td>\n",
       "      <td>G</td>\n",
       "      <td>0.999450</td>\n",
       "      <td>True</td>\n",
       "      <td>0.265487</td>\n",
       "      <td>0.256332</td>\n",
       "      <td>0.343607</td>\n",
       "      <td>0.134574</td>\n",
       "      <td>0.0</td>\n",
       "    </tr>\n",
       "    <tr>\n",
       "      <th>4</th>\n",
       "      <td>GCST000051</td>\n",
       "      <td>4</td>\n",
       "      <td>110789013</td>\n",
       "      <td>C</td>\n",
       "      <td>T</td>\n",
       "      <td>+</td>\n",
       "      <td>NaN</td>\n",
       "      <td>NaN</td>\n",
       "      <td>NaN</td>\n",
       "      <td>1.720000</td>\n",
       "      <td>...</td>\n",
       "      <td>110761847</td>\n",
       "      <td>T</td>\n",
       "      <td>C</td>\n",
       "      <td>0.966859</td>\n",
       "      <td>True</td>\n",
       "      <td>0.000000</td>\n",
       "      <td>0.000000</td>\n",
       "      <td>0.121861</td>\n",
       "      <td>0.878139</td>\n",
       "      <td>0.0</td>\n",
       "    </tr>\n",
       "    <tr>\n",
       "      <th>...</th>\n",
       "      <td>...</td>\n",
       "      <td>...</td>\n",
       "      <td>...</td>\n",
       "      <td>...</td>\n",
       "      <td>...</td>\n",
       "      <td>...</td>\n",
       "      <td>...</td>\n",
       "      <td>...</td>\n",
       "      <td>...</td>\n",
       "      <td>...</td>\n",
       "      <td>...</td>\n",
       "      <td>...</td>\n",
       "      <td>...</td>\n",
       "      <td>...</td>\n",
       "      <td>...</td>\n",
       "      <td>...</td>\n",
       "      <td>...</td>\n",
       "      <td>...</td>\n",
       "      <td>...</td>\n",
       "      <td>...</td>\n",
       "      <td>...</td>\n",
       "    </tr>\n",
       "    <tr>\n",
       "      <th>995</th>\n",
       "      <td>GCST002606</td>\n",
       "      <td>2</td>\n",
       "      <td>10570604</td>\n",
       "      <td>C</td>\n",
       "      <td>T</td>\n",
       "      <td>-</td>\n",
       "      <td>NaN</td>\n",
       "      <td>NaN</td>\n",
       "      <td>NaN</td>\n",
       "      <td>0.943396</td>\n",
       "      <td>...</td>\n",
       "      <td>10586737</td>\n",
       "      <td>T</td>\n",
       "      <td>C</td>\n",
       "      <td>0.531580</td>\n",
       "      <td>False</td>\n",
       "      <td>0.063942</td>\n",
       "      <td>0.025425</td>\n",
       "      <td>0.085004</td>\n",
       "      <td>0.825628</td>\n",
       "      <td>0.0</td>\n",
       "    </tr>\n",
       "    <tr>\n",
       "      <th>996</th>\n",
       "      <td>GCST002606</td>\n",
       "      <td>16</td>\n",
       "      <td>71657426</td>\n",
       "      <td>G</td>\n",
       "      <td>A</td>\n",
       "      <td>+</td>\n",
       "      <td>NaN</td>\n",
       "      <td>NaN</td>\n",
       "      <td>NaN</td>\n",
       "      <td>1.060000</td>\n",
       "      <td>...</td>\n",
       "      <td>71669826</td>\n",
       "      <td>A</td>\n",
       "      <td>G</td>\n",
       "      <td>0.982448</td>\n",
       "      <td>True</td>\n",
       "      <td>0.063942</td>\n",
       "      <td>0.025425</td>\n",
       "      <td>0.085004</td>\n",
       "      <td>0.825628</td>\n",
       "      <td>0.0</td>\n",
       "    </tr>\n",
       "    <tr>\n",
       "      <th>997</th>\n",
       "      <td>GCST002606</td>\n",
       "      <td>6</td>\n",
       "      <td>75786165</td>\n",
       "      <td>A</td>\n",
       "      <td>G</td>\n",
       "      <td>+</td>\n",
       "      <td>NaN</td>\n",
       "      <td>NaN</td>\n",
       "      <td>NaN</td>\n",
       "      <td>1.080000</td>\n",
       "      <td>...</td>\n",
       "      <td>75746630</td>\n",
       "      <td>T</td>\n",
       "      <td>C</td>\n",
       "      <td>0.831166</td>\n",
       "      <td>True</td>\n",
       "      <td>0.063942</td>\n",
       "      <td>0.025425</td>\n",
       "      <td>0.085004</td>\n",
       "      <td>0.825628</td>\n",
       "      <td>0.0</td>\n",
       "    </tr>\n",
       "    <tr>\n",
       "      <th>998</th>\n",
       "      <td>GCST002606</td>\n",
       "      <td>6</td>\n",
       "      <td>75786165</td>\n",
       "      <td>A</td>\n",
       "      <td>G</td>\n",
       "      <td>+</td>\n",
       "      <td>NaN</td>\n",
       "      <td>NaN</td>\n",
       "      <td>NaN</td>\n",
       "      <td>1.080000</td>\n",
       "      <td>...</td>\n",
       "      <td>75739015</td>\n",
       "      <td>T</td>\n",
       "      <td>C</td>\n",
       "      <td>0.803203</td>\n",
       "      <td>True</td>\n",
       "      <td>0.063942</td>\n",
       "      <td>0.025425</td>\n",
       "      <td>0.085004</td>\n",
       "      <td>0.825628</td>\n",
       "      <td>0.0</td>\n",
       "    </tr>\n",
       "    <tr>\n",
       "      <th>999</th>\n",
       "      <td>GCST002606</td>\n",
       "      <td>6</td>\n",
       "      <td>75786165</td>\n",
       "      <td>A</td>\n",
       "      <td>G</td>\n",
       "      <td>+</td>\n",
       "      <td>NaN</td>\n",
       "      <td>NaN</td>\n",
       "      <td>NaN</td>\n",
       "      <td>1.080000</td>\n",
       "      <td>...</td>\n",
       "      <td>75723976</td>\n",
       "      <td>C</td>\n",
       "      <td>T</td>\n",
       "      <td>0.619734</td>\n",
       "      <td>False</td>\n",
       "      <td>0.063942</td>\n",
       "      <td>0.025425</td>\n",
       "      <td>0.085004</td>\n",
       "      <td>0.825628</td>\n",
       "      <td>0.0</td>\n",
       "    </tr>\n",
       "  </tbody>\n",
       "</table>\n",
       "<p>1000 rows × 42 columns</p>\n",
       "</div>"
      ],
      "text/plain": [
       "       study_id  lead_chrom   lead_pos lead_ref lead_alt direction  beta  \\\n",
       "0    GCST000035          16   52552429        A        G         -   NaN   \n",
       "1    GCST000035           5   56736057        C        A         -   NaN   \n",
       "2    GCST000035           5   56736057        C        A         -   NaN   \n",
       "3    GCST000037          16   52552429        A        G         -   NaN   \n",
       "4    GCST000051           4  110789013        C        T         +   NaN   \n",
       "..          ...         ...        ...      ...      ...       ...   ...   \n",
       "995  GCST002606           2   10570604        C        T         -   NaN   \n",
       "996  GCST002606          16   71657426        G        A         +   NaN   \n",
       "997  GCST002606           6   75786165        A        G         +   NaN   \n",
       "998  GCST002606           6   75786165        A        G         +   NaN   \n",
       "999  GCST002606           6   75786165        A        G         +   NaN   \n",
       "\n",
       "     beta_ci_lower  beta_ci_upper  odds_ratio  ...    tag_pos  tag_ref  \\\n",
       "0              NaN            NaN    0.833333  ...   52565276        C   \n",
       "1              NaN            NaN    0.884956  ...   56829526        A   \n",
       "2              NaN            NaN    0.884956  ...   56902323        A   \n",
       "3              NaN            NaN    0.781250  ...   52550383        T   \n",
       "4              NaN            NaN    1.720000  ...  110761847        T   \n",
       "..             ...            ...         ...  ...        ...      ...   \n",
       "995            NaN            NaN    0.943396  ...   10586737        T   \n",
       "996            NaN            NaN    1.060000  ...   71669826        A   \n",
       "997            NaN            NaN    1.080000  ...   75746630        T   \n",
       "998            NaN            NaN    1.080000  ...   75739015        T   \n",
       "999            NaN            NaN    1.080000  ...   75723976        C   \n",
       "\n",
       "     tag_alt  overall_r2  pics_95perc_credset AFR_1000G_prop AMR_1000G_prop  \\\n",
       "0          T    0.674548                False       0.000000       0.000000   \n",
       "1          G    0.526719                False       0.000000       0.000000   \n",
       "2          C    0.513007                False       0.000000       0.000000   \n",
       "3          G    0.999450                 True       0.265487       0.256332   \n",
       "4          C    0.966859                 True       0.000000       0.000000   \n",
       "..       ...         ...                  ...            ...            ...   \n",
       "995        C    0.531580                False       0.063942       0.025425   \n",
       "996        G    0.982448                 True       0.063942       0.025425   \n",
       "997        C    0.831166                 True       0.063942       0.025425   \n",
       "998        C    0.803203                 True       0.063942       0.025425   \n",
       "999        T    0.619734                False       0.063942       0.025425   \n",
       "\n",
       "     EAS_1000G_prop  EUR_1000G_prop  SAS_1000G_prop  \n",
       "0          0.138488        0.861512             0.0  \n",
       "1          0.138488        0.861512             0.0  \n",
       "2          0.138488        0.861512             0.0  \n",
       "3          0.343607        0.134574             0.0  \n",
       "4          0.121861        0.878139             0.0  \n",
       "..              ...             ...             ...  \n",
       "995        0.085004        0.825628             0.0  \n",
       "996        0.085004        0.825628             0.0  \n",
       "997        0.085004        0.825628             0.0  \n",
       "998        0.085004        0.825628             0.0  \n",
       "999        0.085004        0.825628             0.0  \n",
       "\n",
       "[1000 rows x 42 columns]"
      ]
     },
     "execution_count": 86,
     "metadata": {},
     "output_type": "execute_result"
    }
   ],
   "source": [
    "df_vd.drop(columns = ['log10_ABF', 'posterior_prob'])"
   ]
  },
  {
   "attachments": {},
   "cell_type": "markdown",
   "metadata": {},
   "source": [
    "We just want to keep the "
   ]
  },
  {
   "cell_type": "code",
   "execution_count": 87,
   "metadata": {},
   "outputs": [],
   "source": [
    "#extract all the lines where the tag_chrom is X\n",
    "df_vd_x = df_vd[df_vd['tag_chrom'] == 'X']\n"
   ]
  },
  {
   "attachments": {},
   "cell_type": "markdown",
   "metadata": {},
   "source": [
    "load of the gene data"
   ]
  },
  {
   "cell_type": "code",
   "execution_count": 88,
   "metadata": {},
   "outputs": [],
   "source": [
    "df_gene = pd.read_csv('gene.csv')"
   ]
  },
  {
   "attachments": {},
   "cell_type": "markdown",
   "metadata": {},
   "source": [
    "as usual, check the Nan is the columns"
   ]
  },
  {
   "attachments": {},
   "cell_type": "markdown",
   "metadata": {},
   "source": [
    "lets select chromosome X"
   ]
  },
  {
   "cell_type": "code",
   "execution_count": 89,
   "metadata": {},
   "outputs": [],
   "source": [
    "#extract all the lines where the chrom is X\n",
    "df_gene_x = df_gene[df_gene['chr'] == 'X']"
   ]
  },
  {
   "attachments": {},
   "cell_type": "markdown",
   "metadata": {},
   "source": [
    "load locus2gene data"
   ]
  },
  {
   "cell_type": "code",
   "execution_count": 90,
   "metadata": {},
   "outputs": [
    {
     "name": "stderr",
     "output_type": "stream",
     "text": [
      "/tmp/ipykernel_62746/1232562908.py:1: DtypeWarning: Columns (1) have mixed types. Specify dtype option on import or set low_memory=False.\n",
      "  df_l2g = pd.read_csv('locus2gene.csv')\n"
     ]
    }
   ],
   "source": [
    "df_l2g = pd.read_csv('locus2gene.csv')"
   ]
  },
  {
   "attachments": {},
   "cell_type": "markdown",
   "metadata": {},
   "source": [
    "select chromosome X"
   ]
  },
  {
   "cell_type": "code",
   "execution_count": 91,
   "metadata": {},
   "outputs": [],
   "source": [
    "#extract all the lines where the chrom is X\n",
    "df_l2g_x = df_l2g[df_l2g['chrom'] == 'X']"
   ]
  },
  {
   "attachments": {},
   "cell_type": "markdown",
   "metadata": {},
   "source": [
    "load sa_gwas data"
   ]
  },
  {
   "cell_type": "code",
   "execution_count": 92,
   "metadata": {},
   "outputs": [],
   "source": [
    "df_gwas = pd.read_csv('sa_gwas.csv')"
   ]
  },
  {
   "attachments": {},
   "cell_type": "markdown",
   "metadata": {},
   "source": [
    "load sa molecular trait data"
   ]
  },
  {
   "cell_type": "code",
   "execution_count": 93,
   "metadata": {},
   "outputs": [],
   "source": [
    "df_smt = pd.read_csv('sa_molecular_trait.csv')"
   ]
  },
  {
   "attachments": {},
   "cell_type": "markdown",
   "metadata": {},
   "source": [
    "load studies overlap"
   ]
  },
  {
   "cell_type": "code",
   "execution_count": 94,
   "metadata": {},
   "outputs": [],
   "source": [
    "df_so= pd.read_csv('studies_overlap.csv')"
   ]
  },
  {
   "cell_type": "code",
   "execution_count": 95,
   "metadata": {},
   "outputs": [],
   "source": [
    "#select all  the rows of df_so where A_chrom  is X\n",
    "df_so_x = df_so[df_so['A_chrom'] == 'X']"
   ]
  },
  {
   "attachments": {},
   "cell_type": "markdown",
   "metadata": {},
   "source": [
    "load studie"
   ]
  },
  {
   "cell_type": "code",
   "execution_count": 96,
   "metadata": {},
   "outputs": [
    {
     "name": "stderr",
     "output_type": "stream",
     "text": [
      "/tmp/ipykernel_62746/1031896629.py:1: DtypeWarning: Columns (2,11) have mixed types. Specify dtype option on import or set low_memory=False.\n",
      "  df_studies = pd.read_csv('studies.csv')\n"
     ]
    }
   ],
   "source": [
    "df_studies = pd.read_csv('studies.csv')"
   ]
  },
  {
   "attachments": {},
   "cell_type": "markdown",
   "metadata": {},
   "source": [
    "load variant disease credset"
   ]
  },
  {
   "cell_type": "code",
   "execution_count": 97,
   "metadata": {},
   "outputs": [],
   "source": [
    "df_vdc = pd.read_csv('variant_disease_credset.csv')"
   ]
  },
  {
   "cell_type": "code",
   "execution_count": 98,
   "metadata": {},
   "outputs": [],
   "source": [
    "nan_counts = df_vdc.isna().sum()\n",
    "\n",
    "# Get the column names with more than 4871 NaN values\n",
    "columns_to_drop = nan_counts[nan_counts > 4870].index\n",
    "\n",
    "# Drop the columns with more than 10,000 NaN values\n",
    "df_vdc = df_vdc.drop(columns=columns_to_drop)"
   ]
  },
  {
   "cell_type": "code",
   "execution_count": 99,
   "metadata": {},
   "outputs": [],
   "source": [
    "df_vdi = pd.read_csv('variant_disease.csv')"
   ]
  },
  {
   "cell_type": "code",
   "execution_count": 100,
   "metadata": {},
   "outputs": [],
   "source": [
    "df_vdi.drop(columns= \"log10_ABF\", inplace=True)"
   ]
  },
  {
   "cell_type": "code",
   "execution_count": 101,
   "metadata": {},
   "outputs": [],
   "source": [
    "df_vg = pd.read_csv('variant_gene.csv')"
   ]
  },
  {
   "cell_type": "code",
   "execution_count": 102,
   "metadata": {},
   "outputs": [],
   "source": [
    "df_vg.drop(columns= [\"qtl_beta\", \"qtl_se\", \"qtl_pval\", \"qtl_score\", \"qtl_score_q\"], inplace=True)"
   ]
  },
  {
   "cell_type": "code",
   "execution_count": 103,
   "metadata": {},
   "outputs": [],
   "source": [
    "df_variants = pd.read_csv('variants.csv')"
   ]
  },
  {
   "cell_type": "code",
   "execution_count": 114,
   "metadata": {},
   "outputs": [],
   "source": [
    "dataframes = [df_variants, df_dvg, df_gene, df_gwas, df_l2g,df_smt,df_so, df_studies, df_vd, df_vdc, df_vdi, df_vg ]\n",
    "\n",
    "column_dict = {}\n",
    "\n",
    "# Iterate over each data frame and identify identical column names\n",
    "for i, df in enumerate(dataframes):\n",
    "    for column in df.columns:\n",
    "        if column in column_dict:\n",
    "            column_dict[column].append(i)\n",
    "        else:\n",
    "            column_dict[column] = [i]\n",
    "\n",
    "# Create a data frame to store columns that are in more than one data frame\n",
    "common_columns = []\n",
    "data_frame_names = []\n",
    "for column, dataframes in column_dict.items():\n",
    "    if len(dataframes) > 1:\n",
    "        common_columns.append(column)\n",
    "        data_frame_names.append(dataframes)\n",
    "\n",
    "df_common_columns = pd.DataFrame({'Column Name': common_columns, 'Data Frames': data_frame_names})\n",
    "\n"
   ]
  },
  {
   "cell_type": "code",
   "execution_count": 122,
   "metadata": {},
   "outputs": [
    {
     "name": "stdout",
     "output_type": "stream",
     "text": [
      "            Column Name                Data Frames\n",
      "0                chr_id                    [0, 11]\n",
      "1              position                    [0, 11]\n",
      "2            ref_allele                    [0, 11]\n",
      "3            alt_allele                    [0, 11]\n",
      "4              study_id  [1, 3, 4, 5, 7, 8, 9, 10]\n",
      "..                  ...                        ...\n",
      "62            pub_title                 [7, 8, 10]\n",
      "63               source                 [7, 8, 10]\n",
      "64        beta_ci_lower                    [8, 10]\n",
      "65        beta_ci_upper                    [8, 10]\n",
      "66  pics_95perc_credset                    [8, 10]\n",
      "\n",
      "[67 rows x 2 columns]\n"
     ]
    }
   ],
   "source": [
    "print(df_common_columns)"
   ]
  },
  {
   "attachments": {},
   "cell_type": "markdown",
   "metadata": {},
   "source": [
    "merge df_variant with df_vg"
   ]
  },
  {
   "cell_type": "code",
   "execution_count": 119,
   "metadata": {},
   "outputs": [],
   "source": [
    "df_varia = df_variants.merge(right= df_vg, on = ['chr_id', 'position', 'ref_allele'])"
   ]
  },
  {
   "cell_type": "code",
   "execution_count": 124,
   "metadata": {},
   "outputs": [
    {
     "name": "stdout",
     "output_type": "stream",
     "text": [
      "(17028, 14)\n",
      "(37495, 17)\n"
     ]
    }
   ],
   "source": [
    "print (df_variants.shape)\n",
    "print(df_vg.shape)"
   ]
  }
 ],
 "metadata": {
  "kernelspec": {
   "display_name": "Python 3",
   "language": "python",
   "name": "python3"
  },
  "language_info": {
   "codemirror_mode": {
    "name": "ipython",
    "version": 3
   },
   "file_extension": ".py",
   "mimetype": "text/x-python",
   "name": "python",
   "nbconvert_exporter": "python",
   "pygments_lexer": "ipython3",
   "version": "3.10.6"
  },
  "orig_nbformat": 4
 },
 "nbformat": 4,
 "nbformat_minor": 2
}
