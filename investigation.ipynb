{
 "cells": [
  {
   "attachments": {},
   "cell_type": "markdown",
   "metadata": {},
   "source": [
    "Import libraries"
   ]
  },
  {
   "cell_type": "code",
   "execution_count": 1,
   "metadata": {},
   "outputs": [],
   "source": [
    "import pandas as pd\n",
    "import numpy as np\n"
   ]
  },
  {
   "cell_type": "code",
   "execution_count": 9,
   "metadata": {},
   "outputs": [],
   "source": [
    "def view_data(df):\n",
    "    \"\"\"Prints the first 5 rows of a dataframe\"\"\"\n",
    "    print(df.head())\n",
    "    print(df.shape)"
   ]
  },
  {
   "attachments": {},
   "cell_type": "markdown",
   "metadata": {},
   "source": [
    "Data loading for disease variant genes"
   ]
  },
  {
   "cell_type": "code",
   "execution_count": 2,
   "metadata": {},
   "outputs": [],
   "source": [
    "df_dvg = pd.read_csv('disease_variant_gene.csv')"
   ]
  },
  {
   "attachments": {},
   "cell_type": "markdown",
   "metadata": {},
   "source": [
    "Quick view of the containt."
   ]
  },
  {
   "cell_type": "code",
   "execution_count": 3,
   "metadata": {},
   "outputs": [
    {
     "data": {
      "text/html": [
       "<div>\n",
       "<style scoped>\n",
       "    .dataframe tbody tr th:only-of-type {\n",
       "        vertical-align: middle;\n",
       "    }\n",
       "\n",
       "    .dataframe tbody tr th {\n",
       "        vertical-align: top;\n",
       "    }\n",
       "\n",
       "    .dataframe thead th {\n",
       "        text-align: right;\n",
       "    }\n",
       "</style>\n",
       "<table border=\"1\" class=\"dataframe\">\n",
       "  <thead>\n",
       "    <tr style=\"text-align: right;\">\n",
       "      <th></th>\n",
       "      <th>study_id</th>\n",
       "      <th>source</th>\n",
       "      <th>pmid</th>\n",
       "      <th>pub_date</th>\n",
       "      <th>pub_journal</th>\n",
       "      <th>pub_title</th>\n",
       "      <th>pub_author</th>\n",
       "      <th>has_sumstats</th>\n",
       "      <th>trait_reported</th>\n",
       "      <th>trait_efos</th>\n",
       "      <th>...</th>\n",
       "      <th>qtl_beta</th>\n",
       "      <th>qtl_se</th>\n",
       "      <th>qtl_pval</th>\n",
       "      <th>qtl_score</th>\n",
       "      <th>interval_score</th>\n",
       "      <th>qtl_score_q</th>\n",
       "      <th>interval_score_q</th>\n",
       "      <th>d</th>\n",
       "      <th>distance_score</th>\n",
       "      <th>distance_score_q</th>\n",
       "    </tr>\n",
       "  </thead>\n",
       "  <tbody>\n",
       "    <tr>\n",
       "      <th>0</th>\n",
       "      <td>FINNGEN_R6_I9_ISCHHEART</td>\n",
       "      <td>FINNGEN</td>\n",
       "      <td>NaN</td>\n",
       "      <td>2022-01-24</td>\n",
       "      <td>NaN</td>\n",
       "      <td>NaN</td>\n",
       "      <td>FINNGEN_R6</td>\n",
       "      <td>True</td>\n",
       "      <td>Ischemic heart diseases</td>\n",
       "      <td>{\\n  \"trait_efos\": {\\n    \"list\": [{\\n      \"e...</td>\n",
       "      <td>...</td>\n",
       "      <td>NaN</td>\n",
       "      <td>NaN</td>\n",
       "      <td>NaN</td>\n",
       "      <td>NaN</td>\n",
       "      <td>NaN</td>\n",
       "      <td>NaN</td>\n",
       "      <td>NaN</td>\n",
       "      <td>485937.0</td>\n",
       "      <td>0.000002</td>\n",
       "      <td>0.0</td>\n",
       "    </tr>\n",
       "    <tr>\n",
       "      <th>1</th>\n",
       "      <td>FINNGEN_R6_R18_ABDOMI_PELVIC_PAIN</td>\n",
       "      <td>FINNGEN</td>\n",
       "      <td>NaN</td>\n",
       "      <td>2022-01-24</td>\n",
       "      <td>NaN</td>\n",
       "      <td>NaN</td>\n",
       "      <td>FINNGEN_R6</td>\n",
       "      <td>True</td>\n",
       "      <td>Abdominal and pelvic pain</td>\n",
       "      <td>{\\n  \"trait_efos\": {\\n    \"list\": [{\\n      \"e...</td>\n",
       "      <td>...</td>\n",
       "      <td>NaN</td>\n",
       "      <td>NaN</td>\n",
       "      <td>NaN</td>\n",
       "      <td>NaN</td>\n",
       "      <td>NaN</td>\n",
       "      <td>NaN</td>\n",
       "      <td>NaN</td>\n",
       "      <td>160598.0</td>\n",
       "      <td>0.000006</td>\n",
       "      <td>0.7</td>\n",
       "    </tr>\n",
       "    <tr>\n",
       "      <th>2</th>\n",
       "      <td>GCST90018961</td>\n",
       "      <td>GCST</td>\n",
       "      <td>PMID:34594039</td>\n",
       "      <td>2021-09-30</td>\n",
       "      <td>Nat Genet</td>\n",
       "      <td>A cross-population atlas of genetic associatio...</td>\n",
       "      <td>Sakaue S</td>\n",
       "      <td>False</td>\n",
       "      <td>LDL cholesterol</td>\n",
       "      <td>{\\n  \"trait_efos\": {\\n    \"list\": [{\\n      \"e...</td>\n",
       "      <td>...</td>\n",
       "      <td>NaN</td>\n",
       "      <td>NaN</td>\n",
       "      <td>NaN</td>\n",
       "      <td>NaN</td>\n",
       "      <td>NaN</td>\n",
       "      <td>NaN</td>\n",
       "      <td>NaN</td>\n",
       "      <td>494239.0</td>\n",
       "      <td>0.000002</td>\n",
       "      <td>0.0</td>\n",
       "    </tr>\n",
       "    <tr>\n",
       "      <th>3</th>\n",
       "      <td>GCST007232</td>\n",
       "      <td>GCST</td>\n",
       "      <td>PMID:30713548</td>\n",
       "      <td>2019-01-18</td>\n",
       "      <td>Front Genet</td>\n",
       "      <td>A Sex-Stratified Genome-Wide Association Study...</td>\n",
       "      <td>Schurz H</td>\n",
       "      <td>False</td>\n",
       "      <td>Tuberculosis (SNP x SNP interaction)</td>\n",
       "      <td>{\\n  \"trait_efos\": {\\n    \"list\": [{\\n      \"e...</td>\n",
       "      <td>...</td>\n",
       "      <td>NaN</td>\n",
       "      <td>NaN</td>\n",
       "      <td>NaN</td>\n",
       "      <td>NaN</td>\n",
       "      <td>NaN</td>\n",
       "      <td>NaN</td>\n",
       "      <td>NaN</td>\n",
       "      <td>NaN</td>\n",
       "      <td>NaN</td>\n",
       "      <td>NaN</td>\n",
       "    </tr>\n",
       "    <tr>\n",
       "      <th>4</th>\n",
       "      <td>GCST002318_3</td>\n",
       "      <td>GCST</td>\n",
       "      <td>PMID:24390342</td>\n",
       "      <td>2013-12-25</td>\n",
       "      <td>Nature</td>\n",
       "      <td>Genetics of rheumatoid arthritis contributes t...</td>\n",
       "      <td>Okada Y</td>\n",
       "      <td>False</td>\n",
       "      <td>Rheumatoid arthritis [East Asian]</td>\n",
       "      <td>{\\n  \"trait_efos\": {\\n    \"list\": [{\\n      \"e...</td>\n",
       "      <td>...</td>\n",
       "      <td>NaN</td>\n",
       "      <td>NaN</td>\n",
       "      <td>NaN</td>\n",
       "      <td>NaN</td>\n",
       "      <td>8.991316</td>\n",
       "      <td>NaN</td>\n",
       "      <td>0.7</td>\n",
       "      <td>NaN</td>\n",
       "      <td>NaN</td>\n",
       "      <td>NaN</td>\n",
       "    </tr>\n",
       "  </tbody>\n",
       "</table>\n",
       "<p>5 rows × 61 columns</p>\n",
       "</div>"
      ],
      "text/plain": [
       "                            study_id   source           pmid    pub_date  \\\n",
       "0            FINNGEN_R6_I9_ISCHHEART  FINNGEN            NaN  2022-01-24   \n",
       "1  FINNGEN_R6_R18_ABDOMI_PELVIC_PAIN  FINNGEN            NaN  2022-01-24   \n",
       "2                       GCST90018961     GCST  PMID:34594039  2021-09-30   \n",
       "3                         GCST007232     GCST  PMID:30713548  2019-01-18   \n",
       "4                       GCST002318_3     GCST  PMID:24390342  2013-12-25   \n",
       "\n",
       "   pub_journal                                          pub_title  pub_author  \\\n",
       "0          NaN                                                NaN  FINNGEN_R6   \n",
       "1          NaN                                                NaN  FINNGEN_R6   \n",
       "2    Nat Genet  A cross-population atlas of genetic associatio...    Sakaue S   \n",
       "3  Front Genet  A Sex-Stratified Genome-Wide Association Study...    Schurz H   \n",
       "4       Nature  Genetics of rheumatoid arthritis contributes t...     Okada Y   \n",
       "\n",
       "   has_sumstats                        trait_reported  \\\n",
       "0          True               Ischemic heart diseases   \n",
       "1          True             Abdominal and pelvic pain   \n",
       "2         False                       LDL cholesterol   \n",
       "3         False  Tuberculosis (SNP x SNP interaction)   \n",
       "4         False     Rheumatoid arthritis [East Asian]   \n",
       "\n",
       "                                          trait_efos  ... qtl_beta qtl_se  \\\n",
       "0  {\\n  \"trait_efos\": {\\n    \"list\": [{\\n      \"e...  ...      NaN    NaN   \n",
       "1  {\\n  \"trait_efos\": {\\n    \"list\": [{\\n      \"e...  ...      NaN    NaN   \n",
       "2  {\\n  \"trait_efos\": {\\n    \"list\": [{\\n      \"e...  ...      NaN    NaN   \n",
       "3  {\\n  \"trait_efos\": {\\n    \"list\": [{\\n      \"e...  ...      NaN    NaN   \n",
       "4  {\\n  \"trait_efos\": {\\n    \"list\": [{\\n      \"e...  ...      NaN    NaN   \n",
       "\n",
       "   qtl_pval  qtl_score  interval_score qtl_score_q  interval_score_q  \\\n",
       "0       NaN        NaN             NaN         NaN               NaN   \n",
       "1       NaN        NaN             NaN         NaN               NaN   \n",
       "2       NaN        NaN             NaN         NaN               NaN   \n",
       "3       NaN        NaN             NaN         NaN               NaN   \n",
       "4       NaN        NaN        8.991316         NaN               0.7   \n",
       "\n",
       "          d  distance_score distance_score_q  \n",
       "0  485937.0        0.000002              0.0  \n",
       "1  160598.0        0.000006              0.7  \n",
       "2  494239.0        0.000002              0.0  \n",
       "3       NaN             NaN              NaN  \n",
       "4       NaN             NaN              NaN  \n",
       "\n",
       "[5 rows x 61 columns]"
      ]
     },
     "execution_count": 3,
     "metadata": {},
     "output_type": "execute_result"
    }
   ],
   "source": [
    "df_dvg.head()"
   ]
  },
  {
   "attachments": {},
   "cell_type": "markdown",
   "metadata": {},
   "source": [
    "Removing useless columns"
   ]
  },
  {
   "cell_type": "code",
   "execution_count": 4,
   "metadata": {},
   "outputs": [],
   "source": [
    "df_dvg.drop(columns=['source', 'pub_date', 'pub_journal', 'pub_author', 'pub_title'], inplace=True)"
   ]
  },
  {
   "attachments": {},
   "cell_type": "markdown",
   "metadata": {},
   "source": [
    "Removing columns with less than 8000 values"
   ]
  },
  {
   "cell_type": "code",
   "execution_count": 5,
   "metadata": {},
   "outputs": [],
   "source": [
    "nan_counts = df_dvg.isna().sum()\n",
    "\n",
    "# Get the column names with more than 10,000 NaN values\n",
    "columns_to_drop = nan_counts[nan_counts > 8000].index\n",
    "\n",
    "# Drop the columns with more than 10,000 NaN values\n",
    "df_dvg = df_dvg.drop(columns=columns_to_drop)"
   ]
  },
  {
   "cell_type": "code",
   "execution_count": 7,
   "metadata": {},
   "outputs": [],
   "source": [
    "df_dvg = df_dvg[df_dvg['tag_chrom'] == 'X']"
   ]
  },
  {
   "cell_type": "code",
   "execution_count": 10,
   "metadata": {},
   "outputs": [
    {
     "name": "stdout",
     "output_type": "stream",
     "text": [
      "     biotype chr                                        description  \\\n",
      "0  IG_C_gene  14  immunoglobulin heavy constant alpha 2 (A2m mar...   \n",
      "1  IG_C_gene  14  immunoglobulin heavy constant epsilon [Source:...   \n",
      "2  IG_C_gene  14  immunoglobulin heavy constant gamma 4 (G4m mar...   \n",
      "3  IG_C_gene  14  immunoglobulin heavy constant gamma 2 (G2m mar...   \n",
      "4  IG_C_gene  14  immunoglobulin heavy constant alpha 1 [Source:...   \n",
      "\n",
      "         end                                              exons  fwdstrand  \\\n",
      "0  105588395  [105583731,105583853,105584133,105584368,10558...          0   \n",
      "1  105601728  [105597691,105597774,105597859,105597980,10560...          0   \n",
      "2  105626066  [105620506,105621995,105623068,105623198,10562...          0   \n",
      "3  105644790  [105639559,105641048,105641779,105641909,10564...          0   \n",
      "4  105708665  [105704367,105704584,105707230,105707562,10570...          0   \n",
      "\n",
      "           gene_id gene_name      start        tss  \n",
      "0  ENSG00000211890     IGHA2  105583731  105588395  \n",
      "1  ENSG00000211891      IGHE  105597691  105601728  \n",
      "2  ENSG00000211892     IGHG4  105620506  105626066  \n",
      "3  ENSG00000211893     IGHG2  105639559  105644790  \n",
      "4  ENSG00000211895     IGHA1  105703995  105708665  \n",
      "(19599, 10)\n"
     ]
    }
   ],
   "source": [
    "df_gene = pd.read_csv('gene.csv')\n",
    "view_data(df_gene)"
   ]
  },
  {
   "cell_type": "code",
   "execution_count": 11,
   "metadata": {},
   "outputs": [
    {
     "name": "stdout",
     "output_type": "stream",
     "text": [
      "           study_id chrom       pos ref alt          gene_id training_clf  \\\n",
      "0      GCST90002322    16    339466   G   C  ENSG00000090565      xgboost   \n",
      "1      GCST90018969    22  41327109   G   A  ENSG00000100399      xgboost   \n",
      "2      GCST90025975    10  13500761   T   C  ENSG00000165630      xgboost   \n",
      "3  NEALE2_21001_raw    16  31004677  TA   T  ENSG00000167397      xgboost   \n",
      "4  NEALE2_23123_raw    16  31004677  TA   T  ENSG00000167397      xgboost   \n",
      "\n",
      "   training_gs          training_fold y_proba_dist_foot y_proba_dist_tss  \\\n",
      "0  high_medium  fold1=21|10|X|22|5|16     0,03360751271    0,02439909428   \n",
      "1  high_medium  fold1=21|10|X|22|5|16     0,03360751271    0,06339902431   \n",
      "2  high_medium  fold1=21|10|X|22|5|16     0,03360751271    0,05984130502   \n",
      "3  high_medium  fold1=21|10|X|22|5|16     0,03360751271    0,01945855282   \n",
      "4  high_medium  fold1=21|10|X|22|5|16     0,03360751271    0,01945855282   \n",
      "\n",
      "  y_proba_full_model y_proba_logi_distance y_proba_logi_interaction  \\\n",
      "0      0,01996959932         0,01100121625             0,0345848538   \n",
      "1       0,0210929811         0,02043334581            0,05849881843   \n",
      "2      0,04901314899         0,04866343737             0,1131498441   \n",
      "3      0,04558425024         0,02926771343            0,05369029567   \n",
      "4        0,146454066          0,1753876209            0,04228162766   \n",
      "\n",
      "  y_proba_logi_molecularQTL y_proba_logi_pathogenicity y_proba_logo_distance  \\\n",
      "0             0,03844811767              0,04778005555         0,05199339613   \n",
      "1             0,08851146698              0,04570446536         0,05323042348   \n",
      "2             0,05588185787              0,05987672135         0,06251251698   \n",
      "3              0,1337753981              0,07155105472         0,09188738465   \n",
      "4              0,2339498252               0,1045430601          0,1197703779   \n",
      "\n",
      "  y_proba_logo_interaction y_proba_logo_molecularQTL  \\\n",
      "0            0,01085733995             0,01210743934   \n",
      "1            0,02643421106             0,02268969268   \n",
      "2            0,03705297038              0,0506898649   \n",
      "3            0,06201924384             0,03818885982   \n",
      "4             0,1927693188              0,1184120923   \n",
      "\n",
      "  y_proba_logo_pathogenicity  \n",
      "0              0,02607504278  \n",
      "1              0,02237142995  \n",
      "2              0,04428815469  \n",
      "3              0,05386755243  \n",
      "4               0,2446557879  \n",
      "(50000, 20)\n"
     ]
    },
    {
     "name": "stderr",
     "output_type": "stream",
     "text": [
      "C:\\Users\\Utilisateur\\AppData\\Roaming\\Python\\Python310\\site-packages\\IPython\\core\\interactiveshell.py:3505: DtypeWarning: Columns (1) have mixed types.Specify dtype option on import or set low_memory=False.\n",
      "  exec(code_obj, self.user_global_ns, self.user_ns)\n"
     ]
    }
   ],
   "source": [
    "df_l2g = pd.read_csv('locus2gene.csv')\n",
    "view_data(df_l2g)"
   ]
  },
  {
   "cell_type": "code",
   "execution_count": 12,
   "metadata": {},
   "outputs": [
    {
     "name": "stdout",
     "output_type": "stream",
     "text": [
      "  type_id    study_id chrom        pos ref alt      beta        se      pval  \\\n",
      "0    gwas  GCST000612     X  155054116   G   A  0.081580  0.029049  0.004979   \n",
      "1    gwas  GCST004885     X  144929460   G   A  0.403463 -0.119477  0.000676   \n",
      "2    gwas  GCST004885     X  152916959   G   A  0.487352 -0.139281  0.000410   \n",
      "3    gwas  GCST004988     X  148860031   T   A  0.048400  0.015900  0.002275   \n",
      "4    gwas  GCST004988     X  149081444   G   A  0.033800  0.011400  0.002955   \n",
      "\n",
      "   n_total  n_cases       eaf           mac     mac_cases  info  is_cc  \n",
      "0    15283     4533  0.394366  12054.197183   3575.323944   NaN   True  \n",
      "1     5369      260  0.178800   1919.954400     92.976000   NaN   True  \n",
      "2     5369      260  0.127000   1363.726000     66.040000   NaN   True  \n",
      "3   139274    76192  0.933800  18439.877600  10087.820800   NaN   True  \n",
      "4   139274    76192  0.880500  33286.486000  18209.888000   NaN   True  \n",
      "(44775, 16)\n"
     ]
    }
   ],
   "source": [
    "df_sa_gwas = pd.read_csv('sa_gwas.csv')\n",
    "view_data(df_sa_gwas)\n"
   ]
  },
  {
   "cell_type": "code",
   "execution_count": 13,
   "metadata": {},
   "outputs": [
    {
     "name": "stdout",
     "output_type": "stream",
     "text": [
      "  type_id study_id     phenotype_id          gene_id chrom       pos ref alt  \\\n",
      "0    eqtl  eQTLGen  ENSG00000196411  ENSG00000196411     X  45216839   C   T   \n",
      "1    eqtl  eQTLGen  ENSG00000087077  ENSG00000087077     X  45216839   C   T   \n",
      "2    eqtl  eQTLGen  ENSG00000146826  ENSG00000146826     X  45216839   C   T   \n",
      "3    eqtl  eQTLGen  ENSG00000106330  ENSG00000106330     X  45216839   C   T   \n",
      "4    eqtl  eQTLGen  ENSG00000213413  ENSG00000213413     X  45216839   C   T   \n",
      "\n",
      "       beta        se          pval  n_total  n_cases       eaf    mac  \\\n",
      "0  0.055542  0.010446  1.054900e-07    18356      NaN  0.472384  17342   \n",
      "1  0.051375  0.017441  3.223290e-03     6586      NaN  0.472384   6222   \n",
      "2 -0.029836  0.010452  4.309110e-03    18356      NaN  0.472384  17342   \n",
      "3 -0.041999  0.010450  5.834700e-05    18356      NaN  0.472384  17342   \n",
      "4 -0.055226  0.018154  2.348560e-03     6078      NaN  0.472384   5742   \n",
      "\n",
      "   mac_cases  num_tests  info  is_cc     bio_feature  \n",
      "0        NaN       7427   NaN  False  UBERON_0000178  \n",
      "1        NaN       6822   NaN  False  UBERON_0000178  \n",
      "2        NaN       5756   NaN  False  UBERON_0000178  \n",
      "3        NaN       7051   NaN  False  UBERON_0000178  \n",
      "4        NaN       5022   NaN  False  UBERON_0000178  \n",
      "(1194, 20)\n"
     ]
    }
   ],
   "source": [
    "df_sa_molecular_trait = pd.read_csv('sa_molecular_trait.csv')\n",
    "view_data(df_sa_molecular_trait)"
   ]
  },
  {
   "cell_type": "code",
   "execution_count": 15,
   "metadata": {},
   "outputs": [
    {
     "name": "stdout",
     "output_type": "stream",
     "text": [
      "                   A_study_id A_chrom      A_pos A_ref A_alt  \\\n",
      "0  FINNGEN_R6_AB1_BACTINF_NOS       1  159743672     A     G   \n",
      "1  FINNGEN_R6_AB1_BACTINF_NOS       1  159743672     A     G   \n",
      "2  FINNGEN_R6_AB1_BACTINF_NOS       1  159743672     A     G   \n",
      "3  FINNGEN_R6_AB1_BACTINF_NOS       1  159743672     A     G   \n",
      "4  FINNGEN_R6_AB1_BACTINF_NOS       1  159743672     A     G   \n",
      "\n",
      "                                B_study_id B_chrom      B_pos B_ref B_alt  \\\n",
      "0               FINNGEN_R6_AB1_BACTINF_NOS       1  159743672     A     G   \n",
      "1           FINNGEN_R6_AB1_OTHER_BACTERIAL       1  159743672     A     G   \n",
      "2        FINNGEN_R6_COPD_ASTHMA_INFECTIONS       1  159685936     G     T   \n",
      "3  FINNGEN_R6_COPD_ASTHMA_PNEUMONIA_SEPSIS       1  159713648     C     G   \n",
      "4                 FINNGEN_R6_J10_INFLUPNEU       1  159713648     C     G   \n",
      "\n",
      "   A_distinct  AB_overlap  B_distinct  \n",
      "0           0           4           0  \n",
      "1           1           3           0  \n",
      "2           3           1          33  \n",
      "3           2           2           0  \n",
      "4           3           1           0  \n",
      "(50000, 13)\n"
     ]
    }
   ],
   "source": [
    "df_st_ov = pd.read_csv('studies_overlap.csv')\n",
    "view_data(df_st_ov)"
   ]
  },
  {
   "cell_type": "code",
   "execution_count": null,
   "metadata": {},
   "outputs": [],
   "source": []
  }
 ],
 "metadata": {
  "kernelspec": {
   "display_name": "Python 3",
   "language": "python",
   "name": "python3"
  },
  "language_info": {
   "codemirror_mode": {
    "name": "ipython",
    "version": 3
   },
   "file_extension": ".py",
   "mimetype": "text/x-python",
   "name": "python",
   "nbconvert_exporter": "python",
   "pygments_lexer": "ipython3",
   "version": "3.10.10"
  },
  "orig_nbformat": 4
 },
 "nbformat": 4,
 "nbformat_minor": 2
}
