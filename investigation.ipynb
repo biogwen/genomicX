{
 "cells": [
  {
   "attachments": {},
   "cell_type": "markdown",
   "metadata": {},
   "source": [
    "Import libraries"
   ]
  },
  {
   "cell_type": "code",
   "execution_count": 1,
   "metadata": {},
   "outputs": [],
   "source": [
    "import pandas as pd\n",
    "import numpy as np\n"
   ]
  },
  {
   "cell_type": "code",
   "execution_count": 9,
   "metadata": {},
   "outputs": [],
   "source": [
    "def view_data(df):\n",
    "    \"\"\"Prints the first 5 rows of a dataframe\"\"\"\n",
    "    print(df.head())\n",
    "    print(df.shape)"
   ]
  },
  {
   "attachments": {},
   "cell_type": "markdown",
   "metadata": {},
   "source": [
    "Data loading for disease variant genes"
   ]
  },
  {
   "cell_type": "code",
   "execution_count": 2,
   "metadata": {},
   "outputs": [],
   "source": [
    "df_dvg = pd.read_csv('disease_variant_gene.csv')"
   ]
  },
  {
   "attachments": {},
   "cell_type": "markdown",
   "metadata": {},
   "source": [
    "Quick view of the containt."
   ]
  },
  {
   "cell_type": "code",
   "execution_count": 3,
   "metadata": {},
   "outputs": [
    {
     "data": {
      "text/html": [
       "<div>\n",
       "<style scoped>\n",
       "    .dataframe tbody tr th:only-of-type {\n",
       "        vertical-align: middle;\n",
       "    }\n",
       "\n",
       "    .dataframe tbody tr th {\n",
       "        vertical-align: top;\n",
       "    }\n",
       "\n",
       "    .dataframe thead th {\n",
       "        text-align: right;\n",
       "    }\n",
       "</style>\n",
       "<table border=\"1\" class=\"dataframe\">\n",
       "  <thead>\n",
       "    <tr style=\"text-align: right;\">\n",
       "      <th></th>\n",
       "      <th>study_id</th>\n",
       "      <th>source</th>\n",
       "      <th>pmid</th>\n",
       "      <th>pub_date</th>\n",
       "      <th>pub_journal</th>\n",
       "      <th>pub_title</th>\n",
       "      <th>pub_author</th>\n",
       "      <th>has_sumstats</th>\n",
       "      <th>trait_reported</th>\n",
       "      <th>trait_efos</th>\n",
       "      <th>...</th>\n",
       "      <th>qtl_beta</th>\n",
       "      <th>qtl_se</th>\n",
       "      <th>qtl_pval</th>\n",
       "      <th>qtl_score</th>\n",
       "      <th>interval_score</th>\n",
       "      <th>qtl_score_q</th>\n",
       "      <th>interval_score_q</th>\n",
       "      <th>d</th>\n",
       "      <th>distance_score</th>\n",
       "      <th>distance_score_q</th>\n",
       "    </tr>\n",
       "  </thead>\n",
       "  <tbody>\n",
       "    <tr>\n",
       "      <th>0</th>\n",
       "      <td>FINNGEN_R6_I9_ISCHHEART</td>\n",
       "      <td>FINNGEN</td>\n",
       "      <td>NaN</td>\n",
       "      <td>2022-01-24</td>\n",
       "      <td>NaN</td>\n",
       "      <td>NaN</td>\n",
       "      <td>FINNGEN_R6</td>\n",
       "      <td>True</td>\n",
       "      <td>Ischemic heart diseases</td>\n",
       "      <td>{\\n  \"trait_efos\": {\\n    \"list\": [{\\n      \"e...</td>\n",
       "      <td>...</td>\n",
       "      <td>NaN</td>\n",
       "      <td>NaN</td>\n",
       "      <td>NaN</td>\n",
       "      <td>NaN</td>\n",
       "      <td>NaN</td>\n",
       "      <td>NaN</td>\n",
       "      <td>NaN</td>\n",
       "      <td>485937.0</td>\n",
       "      <td>0.000002</td>\n",
       "      <td>0.0</td>\n",
       "    </tr>\n",
       "    <tr>\n",
       "      <th>1</th>\n",
       "      <td>FINNGEN_R6_R18_ABDOMI_PELVIC_PAIN</td>\n",
       "      <td>FINNGEN</td>\n",
       "      <td>NaN</td>\n",
       "      <td>2022-01-24</td>\n",
       "      <td>NaN</td>\n",
       "      <td>NaN</td>\n",
       "      <td>FINNGEN_R6</td>\n",
       "      <td>True</td>\n",
       "      <td>Abdominal and pelvic pain</td>\n",
       "      <td>{\\n  \"trait_efos\": {\\n    \"list\": [{\\n      \"e...</td>\n",
       "      <td>...</td>\n",
       "      <td>NaN</td>\n",
       "      <td>NaN</td>\n",
       "      <td>NaN</td>\n",
       "      <td>NaN</td>\n",
       "      <td>NaN</td>\n",
       "      <td>NaN</td>\n",
       "      <td>NaN</td>\n",
       "      <td>160598.0</td>\n",
       "      <td>0.000006</td>\n",
       "      <td>0.7</td>\n",
       "    </tr>\n",
       "    <tr>\n",
       "      <th>2</th>\n",
       "      <td>GCST90018961</td>\n",
       "      <td>GCST</td>\n",
       "      <td>PMID:34594039</td>\n",
       "      <td>2021-09-30</td>\n",
       "      <td>Nat Genet</td>\n",
       "      <td>A cross-population atlas of genetic associatio...</td>\n",
       "      <td>Sakaue S</td>\n",
       "      <td>False</td>\n",
       "      <td>LDL cholesterol</td>\n",
       "      <td>{\\n  \"trait_efos\": {\\n    \"list\": [{\\n      \"e...</td>\n",
       "      <td>...</td>\n",
       "      <td>NaN</td>\n",
       "      <td>NaN</td>\n",
       "      <td>NaN</td>\n",
       "      <td>NaN</td>\n",
       "      <td>NaN</td>\n",
       "      <td>NaN</td>\n",
       "      <td>NaN</td>\n",
       "      <td>494239.0</td>\n",
       "      <td>0.000002</td>\n",
       "      <td>0.0</td>\n",
       "    </tr>\n",
       "    <tr>\n",
       "      <th>3</th>\n",
       "      <td>GCST007232</td>\n",
       "      <td>GCST</td>\n",
       "      <td>PMID:30713548</td>\n",
       "      <td>2019-01-18</td>\n",
       "      <td>Front Genet</td>\n",
       "      <td>A Sex-Stratified Genome-Wide Association Study...</td>\n",
       "      <td>Schurz H</td>\n",
       "      <td>False</td>\n",
       "      <td>Tuberculosis (SNP x SNP interaction)</td>\n",
       "      <td>{\\n  \"trait_efos\": {\\n    \"list\": [{\\n      \"e...</td>\n",
       "      <td>...</td>\n",
       "      <td>NaN</td>\n",
       "      <td>NaN</td>\n",
       "      <td>NaN</td>\n",
       "      <td>NaN</td>\n",
       "      <td>NaN</td>\n",
       "      <td>NaN</td>\n",
       "      <td>NaN</td>\n",
       "      <td>NaN</td>\n",
       "      <td>NaN</td>\n",
       "      <td>NaN</td>\n",
       "    </tr>\n",
       "    <tr>\n",
       "      <th>4</th>\n",
       "      <td>GCST002318_3</td>\n",
       "      <td>GCST</td>\n",
       "      <td>PMID:24390342</td>\n",
       "      <td>2013-12-25</td>\n",
       "      <td>Nature</td>\n",
       "      <td>Genetics of rheumatoid arthritis contributes t...</td>\n",
       "      <td>Okada Y</td>\n",
       "      <td>False</td>\n",
       "      <td>Rheumatoid arthritis [East Asian]</td>\n",
       "      <td>{\\n  \"trait_efos\": {\\n    \"list\": [{\\n      \"e...</td>\n",
       "      <td>...</td>\n",
       "      <td>NaN</td>\n",
       "      <td>NaN</td>\n",
       "      <td>NaN</td>\n",
       "      <td>NaN</td>\n",
       "      <td>8.991316</td>\n",
       "      <td>NaN</td>\n",
       "      <td>0.7</td>\n",
       "      <td>NaN</td>\n",
       "      <td>NaN</td>\n",
       "      <td>NaN</td>\n",
       "    </tr>\n",
       "  </tbody>\n",
       "</table>\n",
       "<p>5 rows × 61 columns</p>\n",
       "</div>"
      ],
      "text/plain": [
       "                            study_id   source           pmid    pub_date  \\\n",
       "0            FINNGEN_R6_I9_ISCHHEART  FINNGEN            NaN  2022-01-24   \n",
       "1  FINNGEN_R6_R18_ABDOMI_PELVIC_PAIN  FINNGEN            NaN  2022-01-24   \n",
       "2                       GCST90018961     GCST  PMID:34594039  2021-09-30   \n",
       "3                         GCST007232     GCST  PMID:30713548  2019-01-18   \n",
       "4                       GCST002318_3     GCST  PMID:24390342  2013-12-25   \n",
       "\n",
       "   pub_journal                                          pub_title  pub_author  \\\n",
       "0          NaN                                                NaN  FINNGEN_R6   \n",
       "1          NaN                                                NaN  FINNGEN_R6   \n",
       "2    Nat Genet  A cross-population atlas of genetic associatio...    Sakaue S   \n",
       "3  Front Genet  A Sex-Stratified Genome-Wide Association Study...    Schurz H   \n",
       "4       Nature  Genetics of rheumatoid arthritis contributes t...     Okada Y   \n",
       "\n",
       "   has_sumstats                        trait_reported  \\\n",
       "0          True               Ischemic heart diseases   \n",
       "1          True             Abdominal and pelvic pain   \n",
       "2         False                       LDL cholesterol   \n",
       "3         False  Tuberculosis (SNP x SNP interaction)   \n",
       "4         False     Rheumatoid arthritis [East Asian]   \n",
       "\n",
       "                                          trait_efos  ... qtl_beta qtl_se  \\\n",
       "0  {\\n  \"trait_efos\": {\\n    \"list\": [{\\n      \"e...  ...      NaN    NaN   \n",
       "1  {\\n  \"trait_efos\": {\\n    \"list\": [{\\n      \"e...  ...      NaN    NaN   \n",
       "2  {\\n  \"trait_efos\": {\\n    \"list\": [{\\n      \"e...  ...      NaN    NaN   \n",
       "3  {\\n  \"trait_efos\": {\\n    \"list\": [{\\n      \"e...  ...      NaN    NaN   \n",
       "4  {\\n  \"trait_efos\": {\\n    \"list\": [{\\n      \"e...  ...      NaN    NaN   \n",
       "\n",
       "   qtl_pval  qtl_score  interval_score qtl_score_q  interval_score_q  \\\n",
       "0       NaN        NaN             NaN         NaN               NaN   \n",
       "1       NaN        NaN             NaN         NaN               NaN   \n",
       "2       NaN        NaN             NaN         NaN               NaN   \n",
       "3       NaN        NaN             NaN         NaN               NaN   \n",
       "4       NaN        NaN        8.991316         NaN               0.7   \n",
       "\n",
       "          d  distance_score distance_score_q  \n",
       "0  485937.0        0.000002              0.0  \n",
       "1  160598.0        0.000006              0.7  \n",
       "2  494239.0        0.000002              0.0  \n",
       "3       NaN             NaN              NaN  \n",
       "4       NaN             NaN              NaN  \n",
       "\n",
       "[5 rows x 61 columns]"
      ]
     },
     "execution_count": 3,
     "metadata": {},
     "output_type": "execute_result"
    }
   ],
   "source": [
    "df_dvg.head()"
   ]
  },
  {
   "attachments": {},
   "cell_type": "markdown",
   "metadata": {},
   "source": [
    "Removing useless columns"
   ]
  },
  {
   "cell_type": "code",
   "execution_count": 4,
   "metadata": {},
   "outputs": [],
   "source": [
    "df_dvg.drop(columns=['source', 'pub_date', 'pub_journal', 'pub_author', 'pub_title'], inplace=True)"
   ]
  },
  {
   "attachments": {},
   "cell_type": "markdown",
   "metadata": {},
   "source": [
    "Removing columns with less than 8000 values"
   ]
  },
  {
   "cell_type": "code",
   "execution_count": 5,
   "metadata": {},
   "outputs": [],
   "source": [
    "nan_counts = df_dvg.isna().sum()\n",
    "\n",
    "# Get the column names with more than 10,000 NaN values\n",
    "columns_to_drop = nan_counts[nan_counts > 8000].index\n",
    "\n",
    "# Drop the columns with more than 10,000 NaN values\n",
    "df_dvg = df_dvg.drop(columns=columns_to_drop)"
   ]
  },
  {
   "cell_type": "code",
   "execution_count": 7,
   "metadata": {},
   "outputs": [],
   "source": [
    "df_dvg = df_dvg[df_dvg['tag_chrom'] == 'X']"
   ]
  },
  {
   "cell_type": "code",
   "execution_count": 10,
   "metadata": {},
   "outputs": [
    {
     "name": "stdout",
     "output_type": "stream",
     "text": [
      "     biotype chr                                        description  \\\n",
      "0  IG_C_gene  14  immunoglobulin heavy constant alpha 2 (A2m mar...   \n",
      "1  IG_C_gene  14  immunoglobulin heavy constant epsilon [Source:...   \n",
      "2  IG_C_gene  14  immunoglobulin heavy constant gamma 4 (G4m mar...   \n",
      "3  IG_C_gene  14  immunoglobulin heavy constant gamma 2 (G2m mar...   \n",
      "4  IG_C_gene  14  immunoglobulin heavy constant alpha 1 [Source:...   \n",
      "\n",
      "         end                                              exons  fwdstrand  \\\n",
      "0  105588395  [105583731,105583853,105584133,105584368,10558...          0   \n",
      "1  105601728  [105597691,105597774,105597859,105597980,10560...          0   \n",
      "2  105626066  [105620506,105621995,105623068,105623198,10562...          0   \n",
      "3  105644790  [105639559,105641048,105641779,105641909,10564...          0   \n",
      "4  105708665  [105704367,105704584,105707230,105707562,10570...          0   \n",
      "\n",
      "           gene_id gene_name      start        tss  \n",
      "0  ENSG00000211890     IGHA2  105583731  105588395  \n",
      "1  ENSG00000211891      IGHE  105597691  105601728  \n",
      "2  ENSG00000211892     IGHG4  105620506  105626066  \n",
      "3  ENSG00000211893     IGHG2  105639559  105644790  \n",
      "4  ENSG00000211895     IGHA1  105703995  105708665  \n",
      "(19599, 10)\n"
     ]
    }
   ],
   "source": [
    "df_gene = pd.read_csv('gene.csv')\n",
    "view_data(df_gene)"
   ]
  },
  {
   "cell_type": "code",
   "execution_count": null,
   "metadata": {},
   "outputs": [],
   "source": []
  },
  {
   "cell_type": "code",
   "execution_count": 11,
   "metadata": {},
   "outputs": [
    {
     "name": "stdout",
     "output_type": "stream",
     "text": [
      "           study_id chrom       pos ref alt          gene_id training_clf  \\\n",
      "0      GCST90002322    16    339466   G   C  ENSG00000090565      xgboost   \n",
      "1      GCST90018969    22  41327109   G   A  ENSG00000100399      xgboost   \n",
      "2      GCST90025975    10  13500761   T   C  ENSG00000165630      xgboost   \n",
      "3  NEALE2_21001_raw    16  31004677  TA   T  ENSG00000167397      xgboost   \n",
      "4  NEALE2_23123_raw    16  31004677  TA   T  ENSG00000167397      xgboost   \n",
      "\n",
      "   training_gs          training_fold y_proba_dist_foot y_proba_dist_tss  \\\n",
      "0  high_medium  fold1=21|10|X|22|5|16     0,03360751271    0,02439909428   \n",
      "1  high_medium  fold1=21|10|X|22|5|16     0,03360751271    0,06339902431   \n",
      "2  high_medium  fold1=21|10|X|22|5|16     0,03360751271    0,05984130502   \n",
      "3  high_medium  fold1=21|10|X|22|5|16     0,03360751271    0,01945855282   \n",
      "4  high_medium  fold1=21|10|X|22|5|16     0,03360751271    0,01945855282   \n",
      "\n",
      "  y_proba_full_model y_proba_logi_distance y_proba_logi_interaction  \\\n",
      "0      0,01996959932         0,01100121625             0,0345848538   \n",
      "1       0,0210929811         0,02043334581            0,05849881843   \n",
      "2      0,04901314899         0,04866343737             0,1131498441   \n",
      "3      0,04558425024         0,02926771343            0,05369029567   \n",
      "4        0,146454066          0,1753876209            0,04228162766   \n",
      "\n",
      "  y_proba_logi_molecularQTL y_proba_logi_pathogenicity y_proba_logo_distance  \\\n",
      "0             0,03844811767              0,04778005555         0,05199339613   \n",
      "1             0,08851146698              0,04570446536         0,05323042348   \n",
      "2             0,05588185787              0,05987672135         0,06251251698   \n",
      "3              0,1337753981              0,07155105472         0,09188738465   \n",
      "4              0,2339498252               0,1045430601          0,1197703779   \n",
      "\n",
      "  y_proba_logo_interaction y_proba_logo_molecularQTL  \\\n",
      "0            0,01085733995             0,01210743934   \n",
      "1            0,02643421106             0,02268969268   \n",
      "2            0,03705297038              0,0506898649   \n",
      "3            0,06201924384             0,03818885982   \n",
      "4             0,1927693188              0,1184120923   \n",
      "\n",
      "  y_proba_logo_pathogenicity  \n",
      "0              0,02607504278  \n",
      "1              0,02237142995  \n",
      "2              0,04428815469  \n",
      "3              0,05386755243  \n",
      "4               0,2446557879  \n",
      "(50000, 20)\n"
     ]
    },
    {
     "name": "stderr",
     "output_type": "stream",
     "text": [
      "C:\\Users\\Utilisateur\\AppData\\Roaming\\Python\\Python310\\site-packages\\IPython\\core\\interactiveshell.py:3505: DtypeWarning: Columns (1) have mixed types.Specify dtype option on import or set low_memory=False.\n",
      "  exec(code_obj, self.user_global_ns, self.user_ns)\n"
     ]
    }
   ],
   "source": [
    "df_l2g = pd.read_csv('locus2gene.csv')\n",
    "view_data(df_l2g)"
   ]
  },
  {
   "cell_type": "code",
   "execution_count": 12,
   "metadata": {},
   "outputs": [
    {
     "name": "stdout",
     "output_type": "stream",
     "text": [
      "  type_id    study_id chrom        pos ref alt      beta        se      pval  \\\n",
      "0    gwas  GCST000612     X  155054116   G   A  0.081580  0.029049  0.004979   \n",
      "1    gwas  GCST004885     X  144929460   G   A  0.403463 -0.119477  0.000676   \n",
      "2    gwas  GCST004885     X  152916959   G   A  0.487352 -0.139281  0.000410   \n",
      "3    gwas  GCST004988     X  148860031   T   A  0.048400  0.015900  0.002275   \n",
      "4    gwas  GCST004988     X  149081444   G   A  0.033800  0.011400  0.002955   \n",
      "\n",
      "   n_total  n_cases       eaf           mac     mac_cases  info  is_cc  \n",
      "0    15283     4533  0.394366  12054.197183   3575.323944   NaN   True  \n",
      "1     5369      260  0.178800   1919.954400     92.976000   NaN   True  \n",
      "2     5369      260  0.127000   1363.726000     66.040000   NaN   True  \n",
      "3   139274    76192  0.933800  18439.877600  10087.820800   NaN   True  \n",
      "4   139274    76192  0.880500  33286.486000  18209.888000   NaN   True  \n",
      "(44775, 16)\n"
     ]
    }
   ],
   "source": [
    "df_sa_gwas = pd.read_csv('sa_gwas.csv')\n",
    "view_data(df_sa_gwas)\n"
   ]
  },
  {
   "cell_type": "code",
   "execution_count": 13,
   "metadata": {},
   "outputs": [
    {
     "name": "stdout",
     "output_type": "stream",
     "text": [
      "  type_id study_id     phenotype_id          gene_id chrom       pos ref alt  \\\n",
      "0    eqtl  eQTLGen  ENSG00000196411  ENSG00000196411     X  45216839   C   T   \n",
      "1    eqtl  eQTLGen  ENSG00000087077  ENSG00000087077     X  45216839   C   T   \n",
      "2    eqtl  eQTLGen  ENSG00000146826  ENSG00000146826     X  45216839   C   T   \n",
      "3    eqtl  eQTLGen  ENSG00000106330  ENSG00000106330     X  45216839   C   T   \n",
      "4    eqtl  eQTLGen  ENSG00000213413  ENSG00000213413     X  45216839   C   T   \n",
      "\n",
      "       beta        se          pval  n_total  n_cases       eaf    mac  \\\n",
      "0  0.055542  0.010446  1.054900e-07    18356      NaN  0.472384  17342   \n",
      "1  0.051375  0.017441  3.223290e-03     6586      NaN  0.472384   6222   \n",
      "2 -0.029836  0.010452  4.309110e-03    18356      NaN  0.472384  17342   \n",
      "3 -0.041999  0.010450  5.834700e-05    18356      NaN  0.472384  17342   \n",
      "4 -0.055226  0.018154  2.348560e-03     6078      NaN  0.472384   5742   \n",
      "\n",
      "   mac_cases  num_tests  info  is_cc     bio_feature  \n",
      "0        NaN       7427   NaN  False  UBERON_0000178  \n",
      "1        NaN       6822   NaN  False  UBERON_0000178  \n",
      "2        NaN       5756   NaN  False  UBERON_0000178  \n",
      "3        NaN       7051   NaN  False  UBERON_0000178  \n",
      "4        NaN       5022   NaN  False  UBERON_0000178  \n",
      "(1194, 20)\n"
     ]
    }
   ],
   "source": [
    "df_sa_molecular_trait = pd.read_csv('sa_molecular_trait.csv')\n",
    "view_data(df_sa_molecular_trait)"
   ]
  },
  {
   "cell_type": "code",
   "execution_count": 15,
   "metadata": {},
   "outputs": [
    {
     "name": "stdout",
     "output_type": "stream",
     "text": [
      "                   A_study_id A_chrom      A_pos A_ref A_alt  \\\n",
      "0  FINNGEN_R6_AB1_BACTINF_NOS       1  159743672     A     G   \n",
      "1  FINNGEN_R6_AB1_BACTINF_NOS       1  159743672     A     G   \n",
      "2  FINNGEN_R6_AB1_BACTINF_NOS       1  159743672     A     G   \n",
      "3  FINNGEN_R6_AB1_BACTINF_NOS       1  159743672     A     G   \n",
      "4  FINNGEN_R6_AB1_BACTINF_NOS       1  159743672     A     G   \n",
      "\n",
      "                                B_study_id B_chrom      B_pos B_ref B_alt  \\\n",
      "0               FINNGEN_R6_AB1_BACTINF_NOS       1  159743672     A     G   \n",
      "1           FINNGEN_R6_AB1_OTHER_BACTERIAL       1  159743672     A     G   \n",
      "2        FINNGEN_R6_COPD_ASTHMA_INFECTIONS       1  159685936     G     T   \n",
      "3  FINNGEN_R6_COPD_ASTHMA_PNEUMONIA_SEPSIS       1  159713648     C     G   \n",
      "4                 FINNGEN_R6_J10_INFLUPNEU       1  159713648     C     G   \n",
      "\n",
      "   A_distinct  AB_overlap  B_distinct  \n",
      "0           0           4           0  \n",
      "1           1           3           0  \n",
      "2           3           1          33  \n",
      "3           2           2           0  \n",
      "4           3           1           0  \n",
      "(50000, 13)\n"
     ]
    }
   ],
   "source": [
    "df_st_ov = pd.read_csv('studies_overlap.csv')\n",
    "view_data(df_st_ov)"
   ]
  },
  {
   "cell_type": "code",
   "execution_count": 16,
   "metadata": {},
   "outputs": [
    {
     "name": "stdout",
     "output_type": "stream",
     "text": [
      "                           study_id ancestry_initial.list.element  \\\n",
      "0            FINNGEN_R6_M13_MYALGIA               European=201546   \n",
      "1  FINNGEN_R6_M13_PATELLADISLOCATIO               European=174430   \n",
      "2    FINNGEN_R6_M13_PATHODISLOCATIO               European=175145   \n",
      "3                               NaN                           NaN   \n",
      "4     FINNGEN_R6_M13_RECUDISLOCATIO               European=174889   \n",
      "\n",
      "  ancestry_replication.list.element  n_cases  n_initial  n_replication pmid  \\\n",
      "0                               NaN   3822.0   201546.0            0.0  NaN   \n",
      "1                               NaN   1016.0   174430.0            0.0  NaN   \n",
      "2                               NaN   1731.0   175145.0            0.0  NaN   \n",
      "3                               NaN      NaN        NaN            NaN  NaN   \n",
      "4                               NaN   1475.0   174889.0            0.0  NaN   \n",
      "\n",
      "   pub_author    pub_date pub_journal pub_title has_sumstats  num_assoc_loci  \\\n",
      "0  FINNGEN_R6  2022-01-24         NaN       NaN         True             1.0   \n",
      "1  FINNGEN_R6  2022-01-24         NaN       NaN         True             0.0   \n",
      "2  FINNGEN_R6  2022-01-24         NaN       NaN         True             0.0   \n",
      "3         NaN         NaN         NaN       NaN          NaN             NaN   \n",
      "4  FINNGEN_R6  2022-01-24         NaN       NaN         True             0.0   \n",
      "\n",
      "    source                                     trait_reported  \\\n",
      "0  FINNGEN                                            Myalgia   \n",
      "1  FINNGEN                   Recurrent dislocation of patella   \n",
      "2  FINNGEN  \"Pathological/recurrent dislocation and sublux...   \n",
      "3      NaN                                                NaN   \n",
      "4  FINNGEN     Recurrent dislocation and subluxation of joint   \n",
      "\n",
      "  trait_efos.list.element trait_category  \n",
      "0              HP_0003326      phenotype  \n",
      "1              HP_0002999      phenotype  \n",
      "2              HP_0032153      phenotype  \n",
      "3              HP_0001373            NaN  \n",
      "4              HP_0032153      phenotype  \n",
      "(65785, 17)\n"
     ]
    },
    {
     "name": "stderr",
     "output_type": "stream",
     "text": [
      "C:\\Users\\Utilisateur\\AppData\\Roaming\\Python\\Python310\\site-packages\\IPython\\core\\interactiveshell.py:3505: DtypeWarning: Columns (2,11) have mixed types.Specify dtype option on import or set low_memory=False.\n",
      "  exec(code_obj, self.user_global_ns, self.user_ns)\n"
     ]
    }
   ],
   "source": [
    "df_studies = pd.read_csv('studies.csv')\n",
    "view_data(df_studies)"
   ]
  },
  {
   "cell_type": "code",
   "execution_count": 17,
   "metadata": {},
   "outputs": [
    {
     "name": "stdout",
     "output_type": "stream",
     "text": [
      "     study_id  lead_chrom   lead_pos lead_ref lead_alt direction  beta  \\\n",
      "0  GCST000035          16   52552429        A        G         -   NaN   \n",
      "1  GCST000035           5   56736057        C        A         -   NaN   \n",
      "2  GCST000035           5   56736057        C        A         -   NaN   \n",
      "3  GCST000037          16   52552429        A        G         -   NaN   \n",
      "4  GCST000051           4  110789013        C        T         +   NaN   \n",
      "\n",
      "   beta_ci_lower  beta_ci_upper  odds_ratio  ...  tag_alt  overall_r2  \\\n",
      "0            NaN            NaN    0.833333  ...        T    0.674548   \n",
      "1            NaN            NaN    0.884956  ...        G    0.526719   \n",
      "2            NaN            NaN    0.884956  ...        C    0.513007   \n",
      "3            NaN            NaN    0.781250  ...        G    0.999450   \n",
      "4            NaN            NaN    1.720000  ...        C    0.966859   \n",
      "\n",
      "   pics_95perc_credset  AFR_1000G_prop  AMR_1000G_prop EAS_1000G_prop  \\\n",
      "0                False        0.000000        0.000000       0.138488   \n",
      "1                False        0.000000        0.000000       0.138488   \n",
      "2                False        0.000000        0.000000       0.138488   \n",
      "3                 True        0.265487        0.256332       0.343607   \n",
      "4                 True        0.000000        0.000000       0.121861   \n",
      "\n",
      "  EUR_1000G_prop  SAS_1000G_prop  log10_ABF  posterior_prob  \n",
      "0       0.861512             0.0        NaN             NaN  \n",
      "1       0.861512             0.0        NaN             NaN  \n",
      "2       0.861512             0.0        NaN             NaN  \n",
      "3       0.134574             0.0        NaN             NaN  \n",
      "4       0.878139             0.0        NaN             NaN  \n",
      "\n",
      "[5 rows x 44 columns]\n",
      "(1000, 44)\n"
     ]
    }
   ],
   "source": [
    "df_var_db = pd.read_csv('variant_database.csv')\n",
    "view_data(df_var_db)"
   ]
  },
  {
   "cell_type": "code",
   "execution_count": 18,
   "metadata": {},
   "outputs": [
    {
     "name": "stdout",
     "output_type": "stream",
     "text": [
      "   bio_feature  gene_id  is95_credset  is99_credset lead_alt lead_chrom  \\\n",
      "0          NaN      NaN          True          True        A          X   \n",
      "1          NaN      NaN          True          True        A          X   \n",
      "2          NaN      NaN          True          True        C          X   \n",
      "3          NaN      NaN          True          True        G          X   \n",
      "4          NaN      NaN          True          True        A          X   \n",
      "\n",
      "    lead_pos lead_ref  lead_variant_id  logABF  ... tag_beta_cond  tag_chrom  \\\n",
      "0    3435068        G    X:3435068:G:A     NaN  ...      -0.09873          X   \n",
      "1   53834837        G   X:53834837:G:A     NaN  ...      -0.06510          X   \n",
      "2  154154684        T  X:154154684:T:C     NaN  ...      -0.43847          X   \n",
      "3  134597473        A  X:134597473:A:G     NaN  ...      -0.18676          X   \n",
      "4    3695532        C    X:3695532:C:A     NaN  ...       0.05662          X   \n",
      "\n",
      "     tag_pos      tag_pval tag_pval_cond tag_ref    tag_se  tag_se_cond  \\\n",
      "0    3435068  1.870000e-08  1.870000e-08       G  0.017556     0.017556   \n",
      "1   53741181  7.490000e-08  7.490000e-08       A  0.012103     0.012103   \n",
      "2  154154684  2.090000e-09  2.090000e-09       T  0.073192     0.073192   \n",
      "3  134604314  1.510000e-08  1.510000e-08       A  0.032994     0.032994   \n",
      "4    3697767  1.130000e-08  1.130000e-08       C  0.009916     0.009916   \n",
      "\n",
      "       tag_variant_id  type  \n",
      "0       X:3435068:G:A  gwas  \n",
      "1  X:53741181:A:ATTTC  gwas  \n",
      "2     X:154154684:T:C  gwas  \n",
      "3     X:134604314:A:G  gwas  \n",
      "4       X:3697767:C:T  gwas  \n",
      "\n",
      "[5 rows x 27 columns]\n",
      "(4871, 27)\n"
     ]
    }
   ],
   "source": [
    "df_var_di_crst = pd.read_csv('variant_disease_credset.csv')\n",
    "view_data(df_var_di_crst)"
   ]
  },
  {
   "cell_type": "code",
   "execution_count": 19,
   "metadata": {},
   "outputs": [
    {
     "name": "stdout",
     "output_type": "stream",
     "text": [
      "     study_id lead_chrom  lead_pos lead_ref lead_alt direction      beta  \\\n",
      "0  GCST008362          X  79375360        T        C         +  0.033142   \n",
      "1  GCST011049          X  67605515        C        T         +       NaN   \n",
      "2  GCST011049          X  67605515        C        T         +       NaN   \n",
      "3  GCST011049          X  67605515        C        T         +       NaN   \n",
      "4  GCST011049          X  67605515        C        T         +       NaN   \n",
      "\n",
      "   beta_ci_lower  beta_ci_upper  odds_ratio  ...  tag_alt  overall_r2  \\\n",
      "0       0.023833       0.042451         NaN  ...        A    0.999842   \n",
      "1            NaN            NaN        1.06  ...        A    0.535262   \n",
      "2            NaN            NaN        1.06  ...        A    0.535262   \n",
      "3            NaN            NaN        1.06  ...        G    0.535262   \n",
      "4            NaN            NaN        1.06  ...        T    0.535262   \n",
      "\n",
      "   pics_95perc_credset  AFR_1000G_prop  AMR_1000G_prop EAS_1000G_prop  \\\n",
      "0                 True        0.654603        0.052116       0.223878   \n",
      "1                 True        0.047756        0.035572       0.122643   \n",
      "2                 True        0.047756        0.035572       0.122643   \n",
      "3                 True        0.047756        0.035572       0.122643   \n",
      "4                 True        0.047756        0.035572       0.122643   \n",
      "\n",
      "  EUR_1000G_prop  SAS_1000G_prop  log10_ABF  posterior_prob  \n",
      "0       0.069403             0.0        NaN             NaN  \n",
      "1       0.794030             0.0        NaN             NaN  \n",
      "2       0.794030             0.0        NaN             NaN  \n",
      "3       0.794030             0.0        NaN             NaN  \n",
      "4       0.794030             0.0        NaN             NaN  \n",
      "\n",
      "[5 rows x 44 columns]\n",
      "(8424, 44)\n"
     ]
    }
   ],
   "source": [
    "df_var_di= pd.read_csv('variant_disease.csv')\n",
    "view_data(df_var_di)"
   ]
  },
  {
   "cell_type": "code",
   "execution_count": 20,
   "metadata": {},
   "outputs": [
    {
     "name": "stdout",
     "output_type": "stream",
     "text": [
      "  chr_id   position                               ref_allele alt_allele  \\\n",
      "0      X    1459318                             GTATCTATCATC          G   \n",
      "1      X    1462100                                     CTAA          C   \n",
      "2      X    1443613  GTGGACAGACACCGCCATCGTGGACAGACACCGCCATCA          G   \n",
      "3      X  135984986                                       TG          T   \n",
      "4      X  119464238                                       AT          A   \n",
      "\n",
      "           gene_id  feature type_id     source_id  \\\n",
      "0  ENSG00000169084  TOTAL_B   pchic  javierre2016   \n",
      "1  ENSG00000169084  TOTAL_B   pchic  javierre2016   \n",
      "2  ENSG00000214717  TOTAL_B   pchic  javierre2016   \n",
      "3  ENSG00000129680  TOTAL_B   pchic  javierre2016   \n",
      "4  ENSG00000187808  TOTAL_B   pchic  javierre2016   \n",
      "\n",
      "                                     fpred_labels  \\\n",
      "0  {\\n  \"fpred_labels\": {\\n    \"list\": []\\n  }\\n}   \n",
      "1  {\\n  \"fpred_labels\": {\\n    \"list\": []\\n  }\\n}   \n",
      "2  {\\n  \"fpred_labels\": {\\n    \"list\": []\\n  }\\n}   \n",
      "3  {\\n  \"fpred_labels\": {\\n    \"list\": []\\n  }\\n}   \n",
      "4  {\\n  \"fpred_labels\": {\\n    \"list\": []\\n  }\\n}   \n",
      "\n",
      "                                     fpred_scores  ... qtl_beta  qtl_se  \\\n",
      "0  {\\n  \"fpred_scores\": {\\n    \"list\": []\\n  }\\n}  ...      NaN     NaN   \n",
      "1  {\\n  \"fpred_scores\": {\\n    \"list\": []\\n  }\\n}  ...      NaN     NaN   \n",
      "2  {\\n  \"fpred_scores\": {\\n    \"list\": []\\n  }\\n}  ...      NaN     NaN   \n",
      "3  {\\n  \"fpred_scores\": {\\n    \"list\": []\\n  }\\n}  ...      NaN     NaN   \n",
      "4  {\\n  \"fpred_scores\": {\\n    \"list\": []\\n  }\\n}  ...      NaN     NaN   \n",
      "\n",
      "   qtl_pval  qtl_score  interval_score  qtl_score_q  interval_score_q   d  \\\n",
      "0       NaN        NaN        6.420508          NaN               0.4 NaN   \n",
      "1       NaN        NaN        6.420508          NaN               0.4 NaN   \n",
      "2       NaN        NaN        6.420508          NaN               0.4 NaN   \n",
      "3       NaN        NaN        6.421558          NaN               0.4 NaN   \n",
      "4       NaN        NaN        6.431150          NaN               0.4 NaN   \n",
      "\n",
      "   distance_score  distance_score_q  \n",
      "0             NaN               NaN  \n",
      "1             NaN               NaN  \n",
      "2             NaN               NaN  \n",
      "3             NaN               NaN  \n",
      "4             NaN               NaN  \n",
      "\n",
      "[5 rows x 22 columns]\n",
      "(37495, 22)\n"
     ]
    }
   ],
   "source": [
    "df_var_gene = pd.read_csv('variant_gene.csv')\n",
    "view_data(df_var_gene)"
   ]
  },
  {
   "cell_type": "code",
   "execution_count": 21,
   "metadata": {},
   "outputs": [
    {
     "name": "stdout",
     "output_type": "stream",
     "text": [
      "  chr_id  position                       ref_allele alt_allele chr_id_b37  \\\n",
      "0      X  65466915  AATATATATATATATATATATATATATATAT          A          X   \n",
      "1      X  65423173                                C          T          X   \n",
      "2      X  65351104                                G          T          X   \n",
      "3      X   2691061                                G          A          X   \n",
      "4      X   2684039                                T          C          X   \n",
      "\n",
      "   position_b37        rs_id most_severe_consequence  \\\n",
      "0      64686795  rs867427274   upstream_gene_variant   \n",
      "1      64643053  rs143597559      intergenic_variant   \n",
      "2      64570984   rs12013349      intergenic_variant   \n",
      "3       2609102  rs185109021   upstream_gene_variant   \n",
      "4       2602080  rs993695872      intergenic_variant   \n",
      "\n",
      "                                                cadd  \\\n",
      "0  {\\n  \"cadd\": {\\n    \"raw\": null,\\n    \"phred\":...   \n",
      "1  {\\n  \"cadd\": {\\n    \"raw\": \"-0.135347\",\\n    \"...   \n",
      "2  {\\n  \"cadd\": {\\n    \"raw\": \"-0.239831\",\\n    \"...   \n",
      "3  {\\n  \"cadd\": {\\n    \"raw\": \"0.593528\",\\n    \"p...   \n",
      "4  {\\n  \"cadd\": {\\n    \"raw\": \"0.110782\",\\n    \"p...   \n",
      "\n",
      "                                                  af  gene_id_any_distance  \\\n",
      "0  {\\n  \"af\": {\\n    \"gnomad_afr\": \"0.60636182902...                 67895   \n",
      "1  {\\n  \"af\": {\\n    \"gnomad_afr\": \"0.05618979664...                111637   \n",
      "2  {\\n  \"af\": {\\n    \"gnomad_afr\": \"0.41064572425...                183706   \n",
      "3  {\\n  \"af\": {\\n    \"gnomad_afr\": \"0.00103710532...                   126   \n",
      "4  {\\n  \"af\": {\\n    \"gnomad_afr\": \"0.0\",\\n    \"g...                  7148   \n",
      "\n",
      "       gene_id_any  gene_id_prot_coding_distance gene_id_prot_coding  \n",
      "0  ENSG00000001497                         67895     ENSG00000001497  \n",
      "1  ENSG00000001497                        111637     ENSG00000001497  \n",
      "2  ENSG00000001497                        183706     ENSG00000001497  \n",
      "3  ENSG00000002586                           126     ENSG00000002586  \n",
      "4  ENSG00000002586                          7148     ENSG00000002586  \n",
      "(17028, 14)\n"
     ]
    }
   ],
   "source": [
    "df_variants = pd.read_csv('variants.csv')\n",
    "view_data(df_variants)"
   ]
  },
  {
   "cell_type": "code",
   "execution_count": null,
   "metadata": {},
   "outputs": [],
   "source": []
  }
 ],
 "metadata": {
  "kernelspec": {
   "display_name": "Python 3",
   "language": "python",
   "name": "python3"
  },
  "language_info": {
   "codemirror_mode": {
    "name": "ipython",
    "version": 3
   },
   "file_extension": ".py",
   "mimetype": "text/x-python",
   "name": "python",
   "nbconvert_exporter": "python",
   "pygments_lexer": "ipython3",
   "version": "3.10.10"
  },
  "orig_nbformat": 4
 },
 "nbformat": 4,
 "nbformat_minor": 2
}
