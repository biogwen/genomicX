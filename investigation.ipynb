{
 "cells": [
  {
   "attachments": {},
   "cell_type": "markdown",
   "metadata": {},
   "source": [
    "Import libraries"
   ]
  },
  {
   "cell_type": "code",
   "execution_count": 30,
   "metadata": {},
   "outputs": [],
   "source": [
    "import pandas as pd\n",
    "import numpy as np\n"
   ]
  },
  {
   "attachments": {},
   "cell_type": "markdown",
   "metadata": {},
   "source": [
    "Data loading for disease variant genes"
   ]
  },
  {
   "cell_type": "code",
   "execution_count": 31,
   "metadata": {},
   "outputs": [],
   "source": [
    "df_dvg = pd.read_csv('disease_variant_gene.csv')"
   ]
  },
  {
   "attachments": {},
   "cell_type": "markdown",
   "metadata": {},
   "source": [
    "Quick view of the containt."
   ]
  },
  {
   "cell_type": "code",
   "execution_count": 32,
   "metadata": {},
   "outputs": [
    {
     "name": "stdout",
     "output_type": "stream",
     "text": [
      "                            study_id   source           pmid    pub_date  \\\n",
      "0            FINNGEN_R6_I9_ISCHHEART  FINNGEN            NaN  2022-01-24   \n",
      "1  FINNGEN_R6_R18_ABDOMI_PELVIC_PAIN  FINNGEN            NaN  2022-01-24   \n",
      "2                       GCST90018961     GCST  PMID:34594039  2021-09-30   \n",
      "3                         GCST007232     GCST  PMID:30713548  2019-01-18   \n",
      "4                       GCST002318_3     GCST  PMID:24390342  2013-12-25   \n",
      "\n",
      "   pub_journal                                          pub_title  pub_author  \\\n",
      "0          NaN                                                NaN  FINNGEN_R6   \n",
      "1          NaN                                                NaN  FINNGEN_R6   \n",
      "2    Nat Genet  A cross-population atlas of genetic associatio...    Sakaue S   \n",
      "3  Front Genet  A Sex-Stratified Genome-Wide Association Study...    Schurz H   \n",
      "4       Nature  Genetics of rheumatoid arthritis contributes t...     Okada Y   \n",
      "\n",
      "   has_sumstats                        trait_reported  \\\n",
      "0          True               Ischemic heart diseases   \n",
      "1          True             Abdominal and pelvic pain   \n",
      "2         False                       LDL cholesterol   \n",
      "3         False  Tuberculosis (SNP x SNP interaction)   \n",
      "4         False     Rheumatoid arthritis [East Asian]   \n",
      "\n",
      "                                          trait_efos  ... qtl_beta qtl_se  \\\n",
      "0  {\\n  \"trait_efos\": {\\n    \"list\": [{\\n      \"e...  ...      NaN    NaN   \n",
      "1  {\\n  \"trait_efos\": {\\n    \"list\": [{\\n      \"e...  ...      NaN    NaN   \n",
      "2  {\\n  \"trait_efos\": {\\n    \"list\": [{\\n      \"e...  ...      NaN    NaN   \n",
      "3  {\\n  \"trait_efos\": {\\n    \"list\": [{\\n      \"e...  ...      NaN    NaN   \n",
      "4  {\\n  \"trait_efos\": {\\n    \"list\": [{\\n      \"e...  ...      NaN    NaN   \n",
      "\n",
      "   qtl_pval  qtl_score  interval_score qtl_score_q  interval_score_q  \\\n",
      "0       NaN        NaN             NaN         NaN               NaN   \n",
      "1       NaN        NaN             NaN         NaN               NaN   \n",
      "2       NaN        NaN             NaN         NaN               NaN   \n",
      "3       NaN        NaN             NaN         NaN               NaN   \n",
      "4       NaN        NaN        8.991316         NaN               0.7   \n",
      "\n",
      "          d  distance_score distance_score_q  \n",
      "0  485937.0        0.000002              0.0  \n",
      "1  160598.0        0.000006              0.7  \n",
      "2  494239.0        0.000002              0.0  \n",
      "3       NaN             NaN              NaN  \n",
      "4       NaN             NaN              NaN  \n",
      "\n",
      "[5 rows x 61 columns]\n",
      "(10576, 61)\n"
     ]
    }
   ],
   "source": [
    "print(df_dvg.head())\n",
    "print(df_dvg.shape)"
   ]
  },
  {
   "cell_type": "code",
   "execution_count": 48,
   "metadata": {},
   "outputs": [
    {
     "data": {
      "text/plain": [
       "array(['study_id', 'pmid', 'has_sumstats', 'trait_reported', 'trait_efos',\n",
       "       'ancestry_initial', 'ancestry_replication', 'n_initial',\n",
       "       'n_replication', 'n_cases', 'trait_category', 'num_assoc_loci',\n",
       "       'lead_chrom', 'lead_pos', 'lead_ref', 'lead_alt', 'tag_chrom',\n",
       "       'tag_pos', 'tag_ref', 'tag_alt', 'overall_r2', 'AFR_1000G_prop',\n",
       "       'AMR_1000G_prop', 'EAS_1000G_prop', 'EUR_1000G_prop',\n",
       "       'SAS_1000G_prop', 'posterior_prob', 'odds_ratio', 'oddsr_ci_lower',\n",
       "       'oddsr_ci_upper', 'direction', 'pval_mantissa', 'pval_exponent',\n",
       "       'pval', 'gene_id', 'feature', 'type_id', 'source_id',\n",
       "       'fpred_labels', 'fpred_scores', 'd', 'distance_score',\n",
       "       'distance_score_q'], dtype=object)"
      ]
     },
     "execution_count": 48,
     "metadata": {},
     "output_type": "execute_result"
    }
   ],
   "source": [
    "df_dvg.columns.values"
   ]
  },
  {
   "attachments": {},
   "cell_type": "markdown",
   "metadata": {},
   "source": [
    "Beginning of cleaning of the disease variant gene data."
   ]
  },
  {
   "attachments": {},
   "cell_type": "markdown",
   "metadata": {},
   "source": [
    "Removing useless columns"
   ]
  },
  {
   "cell_type": "code",
   "execution_count": 33,
   "metadata": {},
   "outputs": [],
   "source": [
    "df_dvg.drop(columns=['source', 'pub_date', 'pub_journal', 'pub_author', 'pub_title'], inplace=True)"
   ]
  },
  {
   "attachments": {},
   "cell_type": "markdown",
   "metadata": {},
   "source": [
    "Removing columns with less than 8000 values"
   ]
  },
  {
   "cell_type": "code",
   "execution_count": 34,
   "metadata": {},
   "outputs": [],
   "source": [
    "nan_counts = df_dvg.isna().sum()\n",
    "\n",
    "# Get the column names with more than 10,000 NaN values\n",
    "columns_to_drop = nan_counts[nan_counts > 8000].index\n",
    "\n",
    "# Drop the columns with more than 10,000 NaN values\n",
    "df_dvg = df_dvg.drop(columns=columns_to_drop)"
   ]
  },
  {
   "attachments": {},
   "cell_type": "markdown",
   "metadata": {},
   "source": [
    "End of cleaning Disease variant gene data."
   ]
  },
  {
   "attachments": {},
   "cell_type": "markdown",
   "metadata": {},
   "source": [
    "load of the variant database"
   ]
  },
  {
   "cell_type": "code",
   "execution_count": 35,
   "metadata": {},
   "outputs": [
    {
     "name": "stdout",
     "output_type": "stream",
     "text": [
      "     study_id  lead_chrom   lead_pos lead_ref lead_alt direction  beta  \\\n",
      "0  GCST000035          16   52552429        A        G         -   NaN   \n",
      "1  GCST000035           5   56736057        C        A         -   NaN   \n",
      "2  GCST000035           5   56736057        C        A         -   NaN   \n",
      "3  GCST000037          16   52552429        A        G         -   NaN   \n",
      "4  GCST000051           4  110789013        C        T         +   NaN   \n",
      "\n",
      "   beta_ci_lower  beta_ci_upper  odds_ratio  ...  tag_alt  overall_r2  \\\n",
      "0            NaN            NaN    0.833333  ...        T    0.674548   \n",
      "1            NaN            NaN    0.884956  ...        G    0.526719   \n",
      "2            NaN            NaN    0.884956  ...        C    0.513007   \n",
      "3            NaN            NaN    0.781250  ...        G    0.999450   \n",
      "4            NaN            NaN    1.720000  ...        C    0.966859   \n",
      "\n",
      "   pics_95perc_credset  AFR_1000G_prop  AMR_1000G_prop EAS_1000G_prop  \\\n",
      "0                False        0.000000        0.000000       0.138488   \n",
      "1                False        0.000000        0.000000       0.138488   \n",
      "2                False        0.000000        0.000000       0.138488   \n",
      "3                 True        0.265487        0.256332       0.343607   \n",
      "4                 True        0.000000        0.000000       0.121861   \n",
      "\n",
      "  EUR_1000G_prop  SAS_1000G_prop  log10_ABF  posterior_prob  \n",
      "0       0.861512             0.0        NaN             NaN  \n",
      "1       0.861512             0.0        NaN             NaN  \n",
      "2       0.861512             0.0        NaN             NaN  \n",
      "3       0.134574             0.0        NaN             NaN  \n",
      "4       0.878139             0.0        NaN             NaN  \n",
      "\n",
      "[5 rows x 44 columns]\n",
      "(1000, 44)\n"
     ]
    }
   ],
   "source": [
    "df_vd = pd.read_csv('variant_database.csv')\n",
    "print(df_vd.head())\n",
    "print(df_vd.shape)"
   ]
  },
  {
   "attachments": {},
   "cell_type": "markdown",
   "metadata": {},
   "source": [
    "first: check the Nan"
   ]
  },
  {
   "cell_type": "code",
   "execution_count": 36,
   "metadata": {},
   "outputs": [
    {
     "data": {
      "text/plain": [
       "study_id                   0\n",
       "lead_chrom                 0\n",
       "lead_pos                   0\n",
       "lead_ref                   0\n",
       "lead_alt                   0\n",
       "direction                174\n",
       "beta                     685\n",
       "beta_ci_lower            685\n",
       "beta_ci_upper            685\n",
       "odds_ratio               489\n",
       "oddsr_ci_lower           489\n",
       "oddsr_ci_upper           489\n",
       "pval_mantissa              0\n",
       "pval_exponent              0\n",
       "pval                       0\n",
       "ancestry_initial           0\n",
       "ancestry_replication       0\n",
       "n_cases                  391\n",
       "n_initial                  0\n",
       "n_replication            122\n",
       "pmid                       0\n",
       "pub_author                 0\n",
       "pub_date                   0\n",
       "pub_journal                0\n",
       "pub_title                  0\n",
       "has_sumstats               0\n",
       "num_assoc_loci             0\n",
       "source                     0\n",
       "trait_reported             0\n",
       "trait_efos                 0\n",
       "trait_category             0\n",
       "tag_chrom                  0\n",
       "tag_pos                    0\n",
       "tag_ref                    0\n",
       "tag_alt                    0\n",
       "overall_r2                 0\n",
       "pics_95perc_credset        0\n",
       "AFR_1000G_prop             0\n",
       "AMR_1000G_prop             0\n",
       "EAS_1000G_prop             0\n",
       "EUR_1000G_prop             0\n",
       "SAS_1000G_prop             0\n",
       "log10_ABF               1000\n",
       "posterior_prob          1000\n",
       "dtype: int64"
      ]
     },
     "execution_count": 36,
     "metadata": {},
     "output_type": "execute_result"
    }
   ],
   "source": [
    "df_vd.isna().sum()"
   ]
  },
  {
   "attachments": {},
   "cell_type": "markdown",
   "metadata": {},
   "source": [
    "As we see, 2 columns are totally empty. Lets remove them."
   ]
  },
  {
   "cell_type": "code",
   "execution_count": 37,
   "metadata": {},
   "outputs": [
    {
     "data": {
      "text/html": [
       "<div>\n",
       "<style scoped>\n",
       "    .dataframe tbody tr th:only-of-type {\n",
       "        vertical-align: middle;\n",
       "    }\n",
       "\n",
       "    .dataframe tbody tr th {\n",
       "        vertical-align: top;\n",
       "    }\n",
       "\n",
       "    .dataframe thead th {\n",
       "        text-align: right;\n",
       "    }\n",
       "</style>\n",
       "<table border=\"1\" class=\"dataframe\">\n",
       "  <thead>\n",
       "    <tr style=\"text-align: right;\">\n",
       "      <th></th>\n",
       "      <th>study_id</th>\n",
       "      <th>lead_chrom</th>\n",
       "      <th>lead_pos</th>\n",
       "      <th>lead_ref</th>\n",
       "      <th>lead_alt</th>\n",
       "      <th>direction</th>\n",
       "      <th>beta</th>\n",
       "      <th>beta_ci_lower</th>\n",
       "      <th>beta_ci_upper</th>\n",
       "      <th>odds_ratio</th>\n",
       "      <th>...</th>\n",
       "      <th>tag_pos</th>\n",
       "      <th>tag_ref</th>\n",
       "      <th>tag_alt</th>\n",
       "      <th>overall_r2</th>\n",
       "      <th>pics_95perc_credset</th>\n",
       "      <th>AFR_1000G_prop</th>\n",
       "      <th>AMR_1000G_prop</th>\n",
       "      <th>EAS_1000G_prop</th>\n",
       "      <th>EUR_1000G_prop</th>\n",
       "      <th>SAS_1000G_prop</th>\n",
       "    </tr>\n",
       "  </thead>\n",
       "  <tbody>\n",
       "    <tr>\n",
       "      <th>0</th>\n",
       "      <td>GCST000035</td>\n",
       "      <td>16</td>\n",
       "      <td>52552429</td>\n",
       "      <td>A</td>\n",
       "      <td>G</td>\n",
       "      <td>-</td>\n",
       "      <td>NaN</td>\n",
       "      <td>NaN</td>\n",
       "      <td>NaN</td>\n",
       "      <td>0.833333</td>\n",
       "      <td>...</td>\n",
       "      <td>52565276</td>\n",
       "      <td>C</td>\n",
       "      <td>T</td>\n",
       "      <td>0.674548</td>\n",
       "      <td>False</td>\n",
       "      <td>0.000000</td>\n",
       "      <td>0.000000</td>\n",
       "      <td>0.138488</td>\n",
       "      <td>0.861512</td>\n",
       "      <td>0.0</td>\n",
       "    </tr>\n",
       "    <tr>\n",
       "      <th>1</th>\n",
       "      <td>GCST000035</td>\n",
       "      <td>5</td>\n",
       "      <td>56736057</td>\n",
       "      <td>C</td>\n",
       "      <td>A</td>\n",
       "      <td>-</td>\n",
       "      <td>NaN</td>\n",
       "      <td>NaN</td>\n",
       "      <td>NaN</td>\n",
       "      <td>0.884956</td>\n",
       "      <td>...</td>\n",
       "      <td>56829526</td>\n",
       "      <td>A</td>\n",
       "      <td>G</td>\n",
       "      <td>0.526719</td>\n",
       "      <td>False</td>\n",
       "      <td>0.000000</td>\n",
       "      <td>0.000000</td>\n",
       "      <td>0.138488</td>\n",
       "      <td>0.861512</td>\n",
       "      <td>0.0</td>\n",
       "    </tr>\n",
       "    <tr>\n",
       "      <th>2</th>\n",
       "      <td>GCST000035</td>\n",
       "      <td>5</td>\n",
       "      <td>56736057</td>\n",
       "      <td>C</td>\n",
       "      <td>A</td>\n",
       "      <td>-</td>\n",
       "      <td>NaN</td>\n",
       "      <td>NaN</td>\n",
       "      <td>NaN</td>\n",
       "      <td>0.884956</td>\n",
       "      <td>...</td>\n",
       "      <td>56902323</td>\n",
       "      <td>A</td>\n",
       "      <td>C</td>\n",
       "      <td>0.513007</td>\n",
       "      <td>False</td>\n",
       "      <td>0.000000</td>\n",
       "      <td>0.000000</td>\n",
       "      <td>0.138488</td>\n",
       "      <td>0.861512</td>\n",
       "      <td>0.0</td>\n",
       "    </tr>\n",
       "    <tr>\n",
       "      <th>3</th>\n",
       "      <td>GCST000037</td>\n",
       "      <td>16</td>\n",
       "      <td>52552429</td>\n",
       "      <td>A</td>\n",
       "      <td>G</td>\n",
       "      <td>-</td>\n",
       "      <td>NaN</td>\n",
       "      <td>NaN</td>\n",
       "      <td>NaN</td>\n",
       "      <td>0.781250</td>\n",
       "      <td>...</td>\n",
       "      <td>52550383</td>\n",
       "      <td>T</td>\n",
       "      <td>G</td>\n",
       "      <td>0.999450</td>\n",
       "      <td>True</td>\n",
       "      <td>0.265487</td>\n",
       "      <td>0.256332</td>\n",
       "      <td>0.343607</td>\n",
       "      <td>0.134574</td>\n",
       "      <td>0.0</td>\n",
       "    </tr>\n",
       "    <tr>\n",
       "      <th>4</th>\n",
       "      <td>GCST000051</td>\n",
       "      <td>4</td>\n",
       "      <td>110789013</td>\n",
       "      <td>C</td>\n",
       "      <td>T</td>\n",
       "      <td>+</td>\n",
       "      <td>NaN</td>\n",
       "      <td>NaN</td>\n",
       "      <td>NaN</td>\n",
       "      <td>1.720000</td>\n",
       "      <td>...</td>\n",
       "      <td>110761847</td>\n",
       "      <td>T</td>\n",
       "      <td>C</td>\n",
       "      <td>0.966859</td>\n",
       "      <td>True</td>\n",
       "      <td>0.000000</td>\n",
       "      <td>0.000000</td>\n",
       "      <td>0.121861</td>\n",
       "      <td>0.878139</td>\n",
       "      <td>0.0</td>\n",
       "    </tr>\n",
       "    <tr>\n",
       "      <th>...</th>\n",
       "      <td>...</td>\n",
       "      <td>...</td>\n",
       "      <td>...</td>\n",
       "      <td>...</td>\n",
       "      <td>...</td>\n",
       "      <td>...</td>\n",
       "      <td>...</td>\n",
       "      <td>...</td>\n",
       "      <td>...</td>\n",
       "      <td>...</td>\n",
       "      <td>...</td>\n",
       "      <td>...</td>\n",
       "      <td>...</td>\n",
       "      <td>...</td>\n",
       "      <td>...</td>\n",
       "      <td>...</td>\n",
       "      <td>...</td>\n",
       "      <td>...</td>\n",
       "      <td>...</td>\n",
       "      <td>...</td>\n",
       "      <td>...</td>\n",
       "    </tr>\n",
       "    <tr>\n",
       "      <th>995</th>\n",
       "      <td>GCST002606</td>\n",
       "      <td>2</td>\n",
       "      <td>10570604</td>\n",
       "      <td>C</td>\n",
       "      <td>T</td>\n",
       "      <td>-</td>\n",
       "      <td>NaN</td>\n",
       "      <td>NaN</td>\n",
       "      <td>NaN</td>\n",
       "      <td>0.943396</td>\n",
       "      <td>...</td>\n",
       "      <td>10586737</td>\n",
       "      <td>T</td>\n",
       "      <td>C</td>\n",
       "      <td>0.531580</td>\n",
       "      <td>False</td>\n",
       "      <td>0.063942</td>\n",
       "      <td>0.025425</td>\n",
       "      <td>0.085004</td>\n",
       "      <td>0.825628</td>\n",
       "      <td>0.0</td>\n",
       "    </tr>\n",
       "    <tr>\n",
       "      <th>996</th>\n",
       "      <td>GCST002606</td>\n",
       "      <td>16</td>\n",
       "      <td>71657426</td>\n",
       "      <td>G</td>\n",
       "      <td>A</td>\n",
       "      <td>+</td>\n",
       "      <td>NaN</td>\n",
       "      <td>NaN</td>\n",
       "      <td>NaN</td>\n",
       "      <td>1.060000</td>\n",
       "      <td>...</td>\n",
       "      <td>71669826</td>\n",
       "      <td>A</td>\n",
       "      <td>G</td>\n",
       "      <td>0.982448</td>\n",
       "      <td>True</td>\n",
       "      <td>0.063942</td>\n",
       "      <td>0.025425</td>\n",
       "      <td>0.085004</td>\n",
       "      <td>0.825628</td>\n",
       "      <td>0.0</td>\n",
       "    </tr>\n",
       "    <tr>\n",
       "      <th>997</th>\n",
       "      <td>GCST002606</td>\n",
       "      <td>6</td>\n",
       "      <td>75786165</td>\n",
       "      <td>A</td>\n",
       "      <td>G</td>\n",
       "      <td>+</td>\n",
       "      <td>NaN</td>\n",
       "      <td>NaN</td>\n",
       "      <td>NaN</td>\n",
       "      <td>1.080000</td>\n",
       "      <td>...</td>\n",
       "      <td>75746630</td>\n",
       "      <td>T</td>\n",
       "      <td>C</td>\n",
       "      <td>0.831166</td>\n",
       "      <td>True</td>\n",
       "      <td>0.063942</td>\n",
       "      <td>0.025425</td>\n",
       "      <td>0.085004</td>\n",
       "      <td>0.825628</td>\n",
       "      <td>0.0</td>\n",
       "    </tr>\n",
       "    <tr>\n",
       "      <th>998</th>\n",
       "      <td>GCST002606</td>\n",
       "      <td>6</td>\n",
       "      <td>75786165</td>\n",
       "      <td>A</td>\n",
       "      <td>G</td>\n",
       "      <td>+</td>\n",
       "      <td>NaN</td>\n",
       "      <td>NaN</td>\n",
       "      <td>NaN</td>\n",
       "      <td>1.080000</td>\n",
       "      <td>...</td>\n",
       "      <td>75739015</td>\n",
       "      <td>T</td>\n",
       "      <td>C</td>\n",
       "      <td>0.803203</td>\n",
       "      <td>True</td>\n",
       "      <td>0.063942</td>\n",
       "      <td>0.025425</td>\n",
       "      <td>0.085004</td>\n",
       "      <td>0.825628</td>\n",
       "      <td>0.0</td>\n",
       "    </tr>\n",
       "    <tr>\n",
       "      <th>999</th>\n",
       "      <td>GCST002606</td>\n",
       "      <td>6</td>\n",
       "      <td>75786165</td>\n",
       "      <td>A</td>\n",
       "      <td>G</td>\n",
       "      <td>+</td>\n",
       "      <td>NaN</td>\n",
       "      <td>NaN</td>\n",
       "      <td>NaN</td>\n",
       "      <td>1.080000</td>\n",
       "      <td>...</td>\n",
       "      <td>75723976</td>\n",
       "      <td>C</td>\n",
       "      <td>T</td>\n",
       "      <td>0.619734</td>\n",
       "      <td>False</td>\n",
       "      <td>0.063942</td>\n",
       "      <td>0.025425</td>\n",
       "      <td>0.085004</td>\n",
       "      <td>0.825628</td>\n",
       "      <td>0.0</td>\n",
       "    </tr>\n",
       "  </tbody>\n",
       "</table>\n",
       "<p>1000 rows × 42 columns</p>\n",
       "</div>"
      ],
      "text/plain": [
       "       study_id  lead_chrom   lead_pos lead_ref lead_alt direction  beta  \\\n",
       "0    GCST000035          16   52552429        A        G         -   NaN   \n",
       "1    GCST000035           5   56736057        C        A         -   NaN   \n",
       "2    GCST000035           5   56736057        C        A         -   NaN   \n",
       "3    GCST000037          16   52552429        A        G         -   NaN   \n",
       "4    GCST000051           4  110789013        C        T         +   NaN   \n",
       "..          ...         ...        ...      ...      ...       ...   ...   \n",
       "995  GCST002606           2   10570604        C        T         -   NaN   \n",
       "996  GCST002606          16   71657426        G        A         +   NaN   \n",
       "997  GCST002606           6   75786165        A        G         +   NaN   \n",
       "998  GCST002606           6   75786165        A        G         +   NaN   \n",
       "999  GCST002606           6   75786165        A        G         +   NaN   \n",
       "\n",
       "     beta_ci_lower  beta_ci_upper  odds_ratio  ...    tag_pos  tag_ref  \\\n",
       "0              NaN            NaN    0.833333  ...   52565276        C   \n",
       "1              NaN            NaN    0.884956  ...   56829526        A   \n",
       "2              NaN            NaN    0.884956  ...   56902323        A   \n",
       "3              NaN            NaN    0.781250  ...   52550383        T   \n",
       "4              NaN            NaN    1.720000  ...  110761847        T   \n",
       "..             ...            ...         ...  ...        ...      ...   \n",
       "995            NaN            NaN    0.943396  ...   10586737        T   \n",
       "996            NaN            NaN    1.060000  ...   71669826        A   \n",
       "997            NaN            NaN    1.080000  ...   75746630        T   \n",
       "998            NaN            NaN    1.080000  ...   75739015        T   \n",
       "999            NaN            NaN    1.080000  ...   75723976        C   \n",
       "\n",
       "     tag_alt  overall_r2  pics_95perc_credset AFR_1000G_prop AMR_1000G_prop  \\\n",
       "0          T    0.674548                False       0.000000       0.000000   \n",
       "1          G    0.526719                False       0.000000       0.000000   \n",
       "2          C    0.513007                False       0.000000       0.000000   \n",
       "3          G    0.999450                 True       0.265487       0.256332   \n",
       "4          C    0.966859                 True       0.000000       0.000000   \n",
       "..       ...         ...                  ...            ...            ...   \n",
       "995        C    0.531580                False       0.063942       0.025425   \n",
       "996        G    0.982448                 True       0.063942       0.025425   \n",
       "997        C    0.831166                 True       0.063942       0.025425   \n",
       "998        C    0.803203                 True       0.063942       0.025425   \n",
       "999        T    0.619734                False       0.063942       0.025425   \n",
       "\n",
       "     EAS_1000G_prop  EUR_1000G_prop  SAS_1000G_prop  \n",
       "0          0.138488        0.861512             0.0  \n",
       "1          0.138488        0.861512             0.0  \n",
       "2          0.138488        0.861512             0.0  \n",
       "3          0.343607        0.134574             0.0  \n",
       "4          0.121861        0.878139             0.0  \n",
       "..              ...             ...             ...  \n",
       "995        0.085004        0.825628             0.0  \n",
       "996        0.085004        0.825628             0.0  \n",
       "997        0.085004        0.825628             0.0  \n",
       "998        0.085004        0.825628             0.0  \n",
       "999        0.085004        0.825628             0.0  \n",
       "\n",
       "[1000 rows x 42 columns]"
      ]
     },
     "execution_count": 37,
     "metadata": {},
     "output_type": "execute_result"
    }
   ],
   "source": [
    "df_vd.drop(columns = ['log10_ABF', 'posterior_prob'])"
   ]
  },
  {
   "attachments": {},
   "cell_type": "markdown",
   "metadata": {},
   "source": [
    "We just want to keep the "
   ]
  },
  {
   "cell_type": "code",
   "execution_count": 41,
   "metadata": {},
   "outputs": [],
   "source": [
    "#extract all the lines where the tag_chrom is X\n",
    "df_vd_x = df_vd[df_vd['tag_chrom'] == 'X']\n"
   ]
  },
  {
   "attachments": {},
   "cell_type": "markdown",
   "metadata": {},
   "source": [
    "load of the gene data"
   ]
  },
  {
   "cell_type": "code",
   "execution_count": 44,
   "metadata": {},
   "outputs": [
    {
     "name": "stdout",
     "output_type": "stream",
     "text": [
      "     biotype chr                                        description  \\\n",
      "0  IG_C_gene  14  immunoglobulin heavy constant alpha 2 (A2m mar...   \n",
      "1  IG_C_gene  14  immunoglobulin heavy constant epsilon [Source:...   \n",
      "2  IG_C_gene  14  immunoglobulin heavy constant gamma 4 (G4m mar...   \n",
      "3  IG_C_gene  14  immunoglobulin heavy constant gamma 2 (G2m mar...   \n",
      "4  IG_C_gene  14  immunoglobulin heavy constant alpha 1 [Source:...   \n",
      "\n",
      "         end                                              exons  fwdstrand  \\\n",
      "0  105588395  [105583731,105583853,105584133,105584368,10558...          0   \n",
      "1  105601728  [105597691,105597774,105597859,105597980,10560...          0   \n",
      "2  105626066  [105620506,105621995,105623068,105623198,10562...          0   \n",
      "3  105644790  [105639559,105641048,105641779,105641909,10564...          0   \n",
      "4  105708665  [105704367,105704584,105707230,105707562,10570...          0   \n",
      "\n",
      "           gene_id gene_name      start        tss  \n",
      "0  ENSG00000211890     IGHA2  105583731  105588395  \n",
      "1  ENSG00000211891      IGHE  105597691  105601728  \n",
      "2  ENSG00000211892     IGHG4  105620506  105626066  \n",
      "3  ENSG00000211893     IGHG2  105639559  105644790  \n",
      "4  ENSG00000211895     IGHA1  105703995  105708665  \n",
      "(19599, 10)\n"
     ]
    }
   ],
   "source": [
    "df_gene = pd.read_csv('gene.csv')\n",
    "print(df_gene.head())\n",
    "print(df_gene.shape)"
   ]
  },
  {
   "attachments": {},
   "cell_type": "markdown",
   "metadata": {},
   "source": [
    "as usual, check the Nan is the columns"
   ]
  },
  {
   "cell_type": "code",
   "execution_count": 45,
   "metadata": {},
   "outputs": [
    {
     "data": {
      "text/plain": [
       "biotype        0\n",
       "chr            0\n",
       "description    0\n",
       "end            0\n",
       "exons          0\n",
       "fwdstrand      0\n",
       "gene_id        0\n",
       "gene_name      0\n",
       "start          0\n",
       "tss            0\n",
       "dtype: int64"
      ]
     },
     "execution_count": 45,
     "metadata": {},
     "output_type": "execute_result"
    }
   ],
   "source": [
    "df_gene.isna().sum()"
   ]
  },
  {
   "attachments": {},
   "cell_type": "markdown",
   "metadata": {},
   "source": [
    "lets select chromosome X"
   ]
  },
  {
   "cell_type": "code",
   "execution_count": 47,
   "metadata": {},
   "outputs": [
    {
     "name": "stdout",
     "output_type": "stream",
     "text": [
      "             biotype chr                                        description  \\\n",
      "8370  protein_coding   X  tetraspanin 6 [Source:HGNC Symbol;Acc:HGNC:11858]   \n",
      "8371  protein_coding   X  LAS1 like ribosome biogenesis factor [Source:H...   \n",
      "8372  protein_coding   X  kelch like family member 13 [Source:HGNC Symbo...   \n",
      "8373  protein_coding   X  aristaless related homeobox [Source:HGNC Symbo...   \n",
      "8374  protein_coding   X  lysosomal associated membrane protein 2 [Sourc...   \n",
      "\n",
      "            end                                              exons  fwdstrand  \\\n",
      "8370  100639991  [100630759,100630866,100627108,100629986,10063...          0   \n",
      "8371   65534810  [65517987,65518465,65523560,65523707,65524056,...          0   \n",
      "8372  118117340  [117901833,117901946,117909301,117910096,11791...          0   \n",
      "8373   25016420  [25003694,25004910,25007111,25007439,25010260,...          0   \n",
      "8374  120469365  [120426148,120431462,120441730,120441894,12044...          0   \n",
      "\n",
      "              gene_id gene_name      start        tss  \n",
      "8370  ENSG00000000003    TSPAN6  100627108  100639991  \n",
      "8371  ENSG00000001497     LAS1L   65438549   65534810  \n",
      "8372  ENSG00000003096    KLHL13  117897813  118117340  \n",
      "8373  ENSG00000004848       ARX   25003694   25016420  \n",
      "8374  ENSG00000005893     LAMP2  120426148  120469365  \n",
      "(839, 10)\n"
     ]
    }
   ],
   "source": [
    "#extract all the lines where the chrom is X\n",
    "df_gene_x = df_gene[df_gene['chr'] == 'X']\n",
    "print(df_gene_x.head())\n",
    "print(df_gene_x.shape)"
   ]
  },
  {
   "attachments": {},
   "cell_type": "markdown",
   "metadata": {},
   "source": [
    "load locus2gene data"
   ]
  },
  {
   "cell_type": "code",
   "execution_count": 49,
   "metadata": {},
   "outputs": [
    {
     "name": "stdout",
     "output_type": "stream",
     "text": [
      "           study_id chrom       pos ref alt          gene_id training_clf  \\\n",
      "0      GCST90002322    16    339466   G   C  ENSG00000090565      xgboost   \n",
      "1      GCST90018969    22  41327109   G   A  ENSG00000100399      xgboost   \n",
      "2      GCST90025975    10  13500761   T   C  ENSG00000165630      xgboost   \n",
      "3  NEALE2_21001_raw    16  31004677  TA   T  ENSG00000167397      xgboost   \n",
      "4  NEALE2_23123_raw    16  31004677  TA   T  ENSG00000167397      xgboost   \n",
      "\n",
      "   training_gs          training_fold y_proba_dist_foot y_proba_dist_tss  \\\n",
      "0  high_medium  fold1=21|10|X|22|5|16     0,03360751271    0,02439909428   \n",
      "1  high_medium  fold1=21|10|X|22|5|16     0,03360751271    0,06339902431   \n",
      "2  high_medium  fold1=21|10|X|22|5|16     0,03360751271    0,05984130502   \n",
      "3  high_medium  fold1=21|10|X|22|5|16     0,03360751271    0,01945855282   \n",
      "4  high_medium  fold1=21|10|X|22|5|16     0,03360751271    0,01945855282   \n",
      "\n",
      "  y_proba_full_model y_proba_logi_distance y_proba_logi_interaction  \\\n",
      "0      0,01996959932         0,01100121625             0,0345848538   \n",
      "1       0,0210929811         0,02043334581            0,05849881843   \n",
      "2      0,04901314899         0,04866343737             0,1131498441   \n",
      "3      0,04558425024         0,02926771343            0,05369029567   \n",
      "4        0,146454066          0,1753876209            0,04228162766   \n",
      "\n",
      "  y_proba_logi_molecularQTL y_proba_logi_pathogenicity y_proba_logo_distance  \\\n",
      "0             0,03844811767              0,04778005555         0,05199339613   \n",
      "1             0,08851146698              0,04570446536         0,05323042348   \n",
      "2             0,05588185787              0,05987672135         0,06251251698   \n",
      "3              0,1337753981              0,07155105472         0,09188738465   \n",
      "4              0,2339498252               0,1045430601          0,1197703779   \n",
      "\n",
      "  y_proba_logo_interaction y_proba_logo_molecularQTL  \\\n",
      "0            0,01085733995             0,01210743934   \n",
      "1            0,02643421106             0,02268969268   \n",
      "2            0,03705297038              0,0506898649   \n",
      "3            0,06201924384             0,03818885982   \n",
      "4             0,1927693188              0,1184120923   \n",
      "\n",
      "  y_proba_logo_pathogenicity  \n",
      "0              0,02607504278  \n",
      "1              0,02237142995  \n",
      "2              0,04428815469  \n",
      "3              0,05386755243  \n",
      "4               0,2446557879  \n",
      "(50000, 20)\n"
     ]
    },
    {
     "name": "stderr",
     "output_type": "stream",
     "text": [
      "/tmp/ipykernel_35473/3357758148.py:1: DtypeWarning: Columns (1) have mixed types. Specify dtype option on import or set low_memory=False.\n",
      "  df_l2g = pd.read_csv('locus2gene.csv')\n"
     ]
    }
   ],
   "source": [
    "df_l2g = pd.read_csv('locus2gene.csv')\n",
    "print(df_l2g.head())\n",
    "print(df_l2g.shape)"
   ]
  },
  {
   "attachments": {},
   "cell_type": "markdown",
   "metadata": {},
   "source": [
    "select chromosome X"
   ]
  },
  {
   "cell_type": "code",
   "execution_count": 53,
   "metadata": {},
   "outputs": [
    {
     "name": "stdout",
     "output_type": "stream",
     "text": [
      "(113, 20)\n"
     ]
    }
   ],
   "source": [
    "#extract all the lines where the chrom is X\n",
    "df_l2g_x = df_l2g[df_l2g['chrom'] == 'X']\n",
    "print(df_l2g_x.shape)"
   ]
  },
  {
   "cell_type": "code",
   "execution_count": 52,
   "metadata": {},
   "outputs": [
    {
     "data": {
      "text/plain": [
       "study_id                      0\n",
       "chrom                         0\n",
       "pos                           0\n",
       "ref                           0\n",
       "alt                           0\n",
       "gene_id                       0\n",
       "training_clf                  0\n",
       "training_gs                   0\n",
       "training_fold                 0\n",
       "y_proba_dist_foot             0\n",
       "y_proba_dist_tss              0\n",
       "y_proba_full_model            0\n",
       "y_proba_logi_distance         0\n",
       "y_proba_logi_interaction      0\n",
       "y_proba_logi_molecularQTL     0\n",
       "y_proba_logi_pathogenicity    0\n",
       "y_proba_logo_distance         0\n",
       "y_proba_logo_interaction      0\n",
       "y_proba_logo_molecularQTL     0\n",
       "y_proba_logo_pathogenicity    0\n",
       "dtype: int64"
      ]
     },
     "execution_count": 52,
     "metadata": {},
     "output_type": "execute_result"
    }
   ],
   "source": [
    "df_l2g_x.isna().sum()"
   ]
  },
  {
   "attachments": {},
   "cell_type": "markdown",
   "metadata": {},
   "source": [
    "load sa_gwas data"
   ]
  },
  {
   "cell_type": "code",
   "execution_count": 55,
   "metadata": {},
   "outputs": [
    {
     "name": "stdout",
     "output_type": "stream",
     "text": [
      "  type_id                   study_id  chrom        pos ref alt        beta  \\\n",
      "0    gwas  FINNGEN_R6_H7_VISUDISTURB      8  125006043   C   T    -0,04437   \n",
      "1    gwas             NEALE2_189_raw      8  125006043   C   T   0,0213286   \n",
      "2    gwas              NEALE2_50_raw      8  125006043   C   T  -0,0542789   \n",
      "3    gwas               NEALE2_24009      8  125006043   C   T  0,00259249   \n",
      "4    gwas                NEALE2_4418      8  125006043   C   T  -0,0253539   \n",
      "\n",
      "           se         pval  n_total  n_cases           eaf         mac  \\\n",
      "0     0,01553      0,00428   259539   8913.0         0,514  252271,908   \n",
      "1  0,00697346   0,00222434   360763      NaN  0,5410366362      331154   \n",
      "2   0,0149916  0,000293932   360388      NaN  0,5409919309      330842   \n",
      "3  0,00090705    0,0042614   356078      NaN  0,5411005454      326808   \n",
      "4  0,00747014  0,000689722    26198      NaN   0,543778151     23904,2   \n",
      "\n",
      "  mac_cases      info  is_cc  \n",
      "0  8663,436       NaN   True  \n",
      "1       NaN  0,988691  False  \n",
      "2       NaN  0,988691  False  \n",
      "3       NaN  0,988691  False  \n",
      "4       NaN  0,988691  False  \n",
      "(50000, 16)\n"
     ]
    }
   ],
   "source": [
    "df_gwas = pd.read_csv('sa_gwas.csv')\n",
    "print(df_gwas.head())\n",
    "print(df_gwas.shape)"
   ]
  },
  {
   "cell_type": "code",
   "execution_count": 58,
   "metadata": {},
   "outputs": [
    {
     "data": {
      "text/plain": [
       "chrom\n",
       "8    50000\n",
       "dtype: int64"
      ]
     },
     "execution_count": 58,
     "metadata": {},
     "output_type": "execute_result"
    }
   ],
   "source": [
    "df_gwas.value_counts('chrom')"
   ]
  },
  {
   "cell_type": "code",
   "execution_count": 57,
   "metadata": {},
   "outputs": [
    {
     "name": "stdout",
     "output_type": "stream",
     "text": [
      "Empty DataFrame\n",
      "Columns: [type_id, study_id, chrom, pos, ref, alt, beta, se, pval, n_total, n_cases, eaf, mac, mac_cases, info, is_cc]\n",
      "Index: []\n",
      "(0, 16)\n"
     ]
    }
   ],
   "source": [
    "df_gwas_x = df_gwas[df_gwas['chrom'] == 'X']\n",
    "print(df_gwas_x.head())\n",
    "print(df_gwas_x.shape)"
   ]
  },
  {
   "attachments": {},
   "cell_type": "markdown",
   "metadata": {},
   "source": [
    "load sa molecular trait data"
   ]
  },
  {
   "cell_type": "code",
   "execution_count": 59,
   "metadata": {},
   "outputs": [
    {
     "name": "stdout",
     "output_type": "stream",
     "text": [
      "  type_id   study_id                                       phenotype_id  \\\n",
      "0    eqtl  GTEx-eQTL                                    ENSG00000148154   \n",
      "1    eqtl  GTEx-eQTL                                    ENSG00000259953   \n",
      "2    eqtl  GTEx-eQTL                                    ENSG00000171133   \n",
      "3    sqtl  GTEx-sQTL  chr9^112864399^112868784^clu_49180^ENSG0000014...   \n",
      "4    sqtl  GTEx-sQTL  chr9^112380180^112403995^clu_51296^ENSG0000011...   \n",
      "\n",
      "           gene_id  chrom        pos ref alt          beta            se  \\\n",
      "0  ENSG00000148154      9  111850306   T   G     -0,235396     0,0617956   \n",
      "1  ENSG00000259953      9  111850306   T   G     -0,487219      0,138125   \n",
      "2  ENSG00000171133      9  111850306   T   G      -1,11614      0,294133   \n",
      "3  ENSG00000148158      9  111850306   T   G  0,7801150084  0,2607912555   \n",
      "4  ENSG00000119471      9  111850306   T   G    1,47145462  0,3241850399   \n",
      "\n",
      "               pval  n_total  n_cases           eaf  mac  mac_cases  \\\n",
      "0       0,000154517      584      NaN     0,0359589   42        NaN   \n",
      "1       0,000518398      218      NaN     0,0252294   11        NaN   \n",
      "2       0,000201774      194      NaN     0,0257732   10        NaN   \n",
      "3    0,003209149892      187      NaN  0,9627659321   14        NaN   \n",
      "4  0,00001118817536      181      NaN  0,9696133137   11        NaN   \n",
      "\n",
      "   num_tests info  is_cc       bio_feature  \n",
      "0       7647  NaN  False     ARTERY_TIBIAL  \n",
      "1       7551  NaN  False          PROSTATE  \n",
      "2       7640  NaN  False     BRAIN_CAUDATE  \n",
      "3       6521  NaN  False  Brain_Cerebellum  \n",
      "4       6475  NaN  False          Prostate  \n",
      "(50000, 20)\n"
     ]
    }
   ],
   "source": [
    "df_smt = pd.read_csv('sa_molecular_trait.csv')\n",
    "print(df_smt.head())\n",
    "print(df_smt.shape)"
   ]
  },
  {
   "cell_type": "code",
   "execution_count": 60,
   "metadata": {},
   "outputs": [
    {
     "data": {
      "text/plain": [
       "chrom\n",
       "9    50000\n",
       "dtype: int64"
      ]
     },
     "execution_count": 60,
     "metadata": {},
     "output_type": "execute_result"
    }
   ],
   "source": [
    "df_smt.value_counts('chrom')"
   ]
  }
 ],
 "metadata": {
  "kernelspec": {
   "display_name": "Python 3",
   "language": "python",
   "name": "python3"
  },
  "language_info": {
   "codemirror_mode": {
    "name": "ipython",
    "version": 3
   },
   "file_extension": ".py",
   "mimetype": "text/x-python",
   "name": "python",
   "nbconvert_exporter": "python",
   "pygments_lexer": "ipython3",
   "version": "3.10.6"
  },
  "orig_nbformat": 4
 },
 "nbformat": 4,
 "nbformat_minor": 2
}
